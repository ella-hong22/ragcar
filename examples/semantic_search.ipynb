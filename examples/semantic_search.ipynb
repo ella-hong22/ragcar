{
 "cells": [
  {
   "cell_type": "code",
   "execution_count": 1,
   "metadata": {},
   "outputs": [],
   "source": [
    "from ragcar import Ragcar"
   ]
  },
  {
   "cell_type": "code",
   "execution_count": 2,
   "metadata": {},
   "outputs": [
    {
     "data": {
      "text/plain": [
       "'Available models for semantic_search are ([src]: model_name_or_path, [model]: leewaay/kpf-bert-base-klueNLI-klueSTS-MSL512, leewaay/klue-roberta-base-klueNLI-klueSTS-MSL512, leewaay/klue-roberta-large-klueNLI-klueSTS-MSL512, MODELS_SUPPORTED(https://huggingface.co/models?pipeline_tag=sentence-similarity)), ([src]: googledrive, [model]: YOUR_MODEL), ([src]: openai, [model]: text-embedding-3-large, text-embedding-3-small, text-embedding-ada-002, MODELS_SUPPORTED(https://platform.openai.com/docs/models)), ([src]: clova, [model]: YOUR_MODEL(https://www.ncloud.com/product/aiService/clovaStudio)), ([src]: elasticsearch, [model]: YOUR_MODEL)'"
      ]
     },
     "execution_count": 2,
     "metadata": {},
     "output_type": "execute_result"
    }
   ],
   "source": [
    "Ragcar.available_models(\"semantic_search\")"
   ]
  },
  {
   "cell_type": "code",
   "execution_count": 3,
   "metadata": {},
   "outputs": [
    {
     "data": {
      "text/plain": [
       "\"Available customizable src for semantic_search are ['elasticsearch', 'googledrive', 'openai', 'model_name_or_path', 'clova']\""
      ]
     },
     "execution_count": 3,
     "metadata": {},
     "output_type": "execute_result"
    }
   ],
   "source": [
    "Ragcar.available_customizable_src(\"semantic_search\")"
   ]
  },
  {
   "cell_type": "markdown",
   "metadata": {},
   "source": [
    "## Sentence-Transformers [util.semantic_search](https://www.sbert.net/examples/applications/semantic-search/README.html#util-semantic-search) 활용"
   ]
  },
  {
   "cell_type": "code",
   "execution_count": 4,
   "metadata": {},
   "outputs": [],
   "source": [
    "retriever = Ragcar(tool=\"semantic_search\", src=\"model_name_or_path\")"
   ]
  },
  {
   "cell_type": "code",
   "execution_count": 5,
   "metadata": {},
   "outputs": [],
   "source": [
    "corpus = [\n",
    "    \"프로농구 2023-2024시즌, 10월 21일 인삼공사 vs SK 경기로 개막\", \n",
    "    \"LG 최원태, 이적 후 첫 경기서 완벽투…우승 향한 '화룡점정'(종합)\",\n",
    "    \"맨시티 홀란, AT 마드리드 친선경기 선발…그리에즈만과 맞대결\",\n",
    "    \"이재성, 프리시즌 경기서 골맛…마인츠, 장크트갈렌에 4-1 승\",\n",
    "    \"7월 건설경기실사지수 89.8…2년 7개월 만에 최고\", \n",
    "    \"한강∼아라뱃길 복원 모색…서울·인천·경기 '맞손'\",\n",
    "]\n",
    "\n",
    "query = \"류현진, 올라오지 않은 구속·장타에 고전…5이닝 버틴 건 수확(종합)\""
   ]
  },
  {
   "cell_type": "code",
   "execution_count": 6,
   "metadata": {},
   "outputs": [
    {
     "data": {
      "text/plain": [
       "[[{'corpus_id': 1, 'score': 0.18477356433868408},\n",
       "  {'corpus_id': 3, 'score': 0.09282227605581284},\n",
       "  {'corpus_id': 0, 'score': 0.08626362681388855},\n",
       "  {'corpus_id': 4, 'score': 0.0812467709183693},\n",
       "  {'corpus_id': 2, 'score': 0.05464627593755722}]]"
      ]
     },
     "execution_count": 6,
     "metadata": {},
     "output_type": "execute_result"
    }
   ],
   "source": [
    "retriever(query, corpus)"
   ]
  },
  {
   "cell_type": "markdown",
   "metadata": {},
   "source": [
    "### Parameter\n",
    "* top_k (int, optional): The number of top matching entries to retrieve. Defaults to 5.\n",
    "* min_score (float, optional): The minimum score threshold for an entry to be considered relevant. Defaults to 0."
   ]
  },
  {
   "cell_type": "code",
   "execution_count": 7,
   "metadata": {},
   "outputs": [
    {
     "data": {
      "text/plain": [
       "[[{'corpus_id': 1, 'score': 0.18477356433868408},\n",
       "  {'corpus_id': 3, 'score': 0.09282227605581284},\n",
       "  {'corpus_id': 0, 'score': 0.08626362681388855}]]"
      ]
     },
     "execution_count": 7,
     "metadata": {},
     "output_type": "execute_result"
    }
   ],
   "source": [
    "retriever(query, corpus, top_k=3)"
   ]
  },
  {
   "cell_type": "code",
   "execution_count": 8,
   "metadata": {},
   "outputs": [
    {
     "data": {
      "text/plain": [
       "[[{'corpus_id': 1, 'score': 0.18477356433868408}]]"
      ]
     },
     "execution_count": 8,
     "metadata": {},
     "output_type": "execute_result"
    }
   ],
   "source": [
    "retriever(query, corpus, min_score=0.1)"
   ]
  },
  {
   "cell_type": "markdown",
   "metadata": {},
   "source": [
    "## Vector DB(Elasticsearch)를 연계한 Semantic Search"
   ]
  },
  {
   "cell_type": "markdown",
   "metadata": {},
   "source": [
    "### Parameter\n",
    "* query (str or list or Tensor): query to be encoded\n",
    "* corpus (str): sentences, paragraphs, documents or Elasticsearch dense_vector field name to be encoded\n",
    "* top_k (int, optional): retrieve top k matching entries (default: 5)\n",
    "* min_score (float, optional): minimum similarity (default: 0)\n",
    "* doc_id (bool, optional): if True, the input query will be treated as an Elasticsearch document ID for retrieval (default: False)\n",
    "* knn (bool, optional): if True, use k-nearest neighbors algorithm for retrieval (default: False)\n",
    "* source_fields (list, optional): selected fields from a search (default: [])\n",
    "* filter (list, optional): list of filters. Each filter should be a dictionary that specifies the field and the value(s) to filter on (default: [])\n",
    "* must_not (list, optional): list of conditions. Each condition should be a dictionary that specifies the field and the value(s) that should not be matched in the Elasticsearch documents. (default: [])"
   ]
  },
  {
   "cell_type": "markdown",
   "metadata": {},
   "source": [
    "### 비동기 VS 동기"
   ]
  },
  {
   "cell_type": "code",
   "execution_count": 9,
   "metadata": {},
   "outputs": [],
   "source": [
    "questions = [\n",
    "    \"아이들과 함께 갈 수 있는 음식점을 추천해줄 수 있나요?\", \n",
    "    \"비가 올 때도 즐길 수 있는 실내 관광지는 어디인가요?\",\n",
    "    \"휠체어 사용자를 위한 편의 시설이 잘 갖춰진 음식점을 추천해주세요\",\n",
    "    \"제주도 특산물을 맛볼 수 있는 음식점은?\",\n",
    "    \"시각 장애인을 위한 음식점\"\n",
    "]"
   ]
  },
  {
   "cell_type": "code",
   "execution_count": 10,
   "metadata": {},
   "outputs": [
    {
     "data": {
      "text/plain": [
       "True"
      ]
     },
     "execution_count": 10,
     "metadata": {},
     "output_type": "execute_result"
    }
   ],
   "source": [
    "import os\n",
    "from dotenv import load_dotenv\n",
    "\n",
    "load_dotenv()"
   ]
  },
  {
   "cell_type": "code",
   "execution_count": 11,
   "metadata": {},
   "outputs": [
    {
     "data": {
      "text/plain": [
       "'Available fields for elasticsearch are ([field]: encoder_key.src, [type]: str), ([field]: encoder_key.model, [type]: Union), ([field]: host_n, [type]: str), ([field]: http_auth, [type]: tuple, NoneType), ([field]: scheme, [type]: str, NoneType), ([field]: verify_certs, [type]: bool, NoneType), ([field]: timeout, [type]: int, NoneType), ([field]: max_retries, [type]: int, NoneType), ([field]: retry_on_timeout, [type]: bool, NoneType)'"
      ]
     },
     "execution_count": 11,
     "metadata": {},
     "output_type": "execute_result"
    }
   ],
   "source": [
    "Ragcar.available_model_fields(\"elasticsearch\")"
   ]
  },
  {
   "cell_type": "code",
   "execution_count": 12,
   "metadata": {},
   "outputs": [
    {
     "name": "stdout",
     "output_type": "stream",
     "text": [
      "\n",
      "-------------------------\n",
      "\n",
      "Sync\n",
      "[{'_index': 'gildong_1', '_id': '12552', '_score': 1.3690594, '_ignored': ['overview.keyword'], '_source': {'overview_summ': '대구광역시 달성군 다사읍 세천리에 위치한 엄마밥상 세천점은 세련된 외관과 고급스러운 분위기를 가지고 있으며, 어린이를 위한 놀이방과 식사할 수 있는 룸이 있어 가족들에게 인기가 있습니다. 대표 메뉴로는 점심특선 엄마밥상이 있으며, 굴전, 고등어, 게장 등 다양한 메뉴를 즐길 수 있습니다. 북다사IC에서 가깝고, 인근에는 마천산산림욕장과 불은사가 있습니다.', 'title': '엄마밥상 세천점'}}, {'_index': 'gildong_1', '_id': '6397', '_score': 1.3228592, '_ignored': ['overview_summ.keyword', 'overview.keyword'], '_source': {'overview_summ': '바비레드 하남점은 스타필드 하남 지하 1층에 있는 퓨전 이탈리안 레스토랑이다. 복합 쇼핑몰인 스타필드에 있어서 가족과 같이 가기 좋은 식당이다. 이곳은 강남역 맛집으로 유명한 바비레드의 하남지점으로 샹들리에 조명의 깔끔하지만 조금은 화려한 느낌의 식당 내부이다. 대표 메뉴는 매운 갈비 파스타이다. 갈비 파스타의 원조 식당으로 매운맛은 주문 시 조절이 가능하다. 키즈 메뉴도 있고 아이들이 색칠 놀이를 할 수 있는 키트와 스티커를 주어 음식을 기다리는 동안 지루해하지 않아 어린이와 같이 가도 편히 음식을 즐길 수 있다.', 'title': '바비레드 하남점'}}, {'_index': 'gildong_1', '_id': '3922', '_score': 1.3152639, '_ignored': ['overview.keyword'], '_source': {'overview_summ': '돈족골은 지하철 9호선 석촌고분역 2번 출구 바로 앞에 위치한 맛집으로, 생방송에서 소개되었습니다. 대표 메뉴는 등갈비이며, 다양한 반찬과 사이드 메뉴도 제공됩니다. 매장은 입석과 좌석 테이블, 단체석이 있으며, 주차장도 넓게 마련되어 있습니다. 인근에는 석촌호수와 대형 테마파크 놀이동산이 있어 연계 관광이 가능합니다.', 'title': '돈족골'}}]\n",
      "[{'_index': 'gildong_1', '_id': '24488', '_score': 1.3961453, '_source': {'overview_summ': '워터킹덤은 사계절 편안한 휴식도 즐기고 짜릿한 즐거움도 느낄 수 있는 실내형 워터파크이다. 서울 도심에서 멀리 나갈 필요 없이, 궂은 날씨에도 상관없이 가족,친구,연인과 함께 365일 워터파크를 즐길 수 있다.', 'title': '파크하비오 워터킹덤&스파'}}, {'_index': 'gildong_1', '_id': '22356', '_score': 1.3726562, '_source': {'overview_summ': '쇼핑몰이 위치한 단지내에 세계최대의 실내주제공원인 롯데월드 어드벤쳐 및 우리민족의 문화와 민속을 쉽게 접할 수 있는 민속박물관, 그리고 연중무휴로 연인과 가족이 함께스케이트를 즐길수 있는 아이스링크 및 실내수영장, 볼링장, 스포츠센터 등이 있다. 또한 백화점과 롯데마트도 같이 있어 문화와 쇼핑 여가생활을 동시에 즐길 수 있는 명소이다.', 'title': '롯데월드 쇼핑몰'}}, {'_index': 'gildong_1', '_id': '2503', '_score': 1.3254547, '_ignored': ['overview_summ.keyword', 'overview.keyword'], '_source': {'overview_summ': '동두천 탑동동 왕방산 자락에 총 18만 ㎡의 부지에 계절과 날씨에 상관없이 즐길 수 있는 전천후 숲 체험 시설이다. ‘놀자숲’은 실내 체험시설인 놀자 센터와 놀이시설을 갖춘 실외 공간으로 나뉘어져 있어 다양한 시설물을 통해 자연과 모험을 즐길 수 있다.익스트림 슬라이드, 계곡 위 네트 어드벤쳐, 트리하우스, 숲 놀이터 등 가족단위 관광객들이 자연 속에서 즐길 수 있는 다양한 시설로 조성되어 있다. 실내 이용권과 실외 이용권을 따로 구입할 수 있고 실내외 종합 입장권을 구입할 경우 좀 더 저렴하게 이용할 수 있다.', 'title': '놀자숲'}}]\n",
      "[{'_index': 'gildong_1', '_id': '3501', '_score': 1.3549018, '_source': {'overview_summ': '더세리 호스텔은 제주 서귀포 시외터미널과 제주월드컵경기장 지척에 위치해 있다. 침실과 한실을 갖춘 객실을 비롯해 수영장, 레스토랑, 바비큐, 간이공동주방 등 다양한 부대시설이 마련되어 있다. 좀 더 편리하고 안락하게 머물 수 있도록 안마의자와 신문 서비스도 제공한다. 장애인 주차 및 접근로, 엘리베이터, 화장실 등 장애인 편의시설도 잘 갖춰져 있다.', 'title': '더 세리 호스텔 [한국관광 품질인증/Korea Quality]'}}, {'_index': 'gildong_1', '_id': '21547', '_score': 1.3459368, '_source': {'overview_summ': '헌정기념관은 1998년 5월 29일 국회개원 50주년 기념사업의 일환으로 건립, 개관하여 국민에게 개방해오고 있다.', 'title': '국회 방문자센터 헌정기념관'}}, {'_index': 'gildong_1', '_id': '21173', '_score': 1.340215, '_source': {'overview_summ': '고려대학교 아이스링크장은 1998년 개장하여 사계절 연중무휴로 운영되는 최고의 실내빙상장으로서 어린이들의 건강 증진과 직장인들의 여가선용, 빙상스포츠 발전을 위하여 최선을 다하고 있다. 타 링크장 전문가들도 인정한 최고의 시설과 빙질을 자랑하고 고려대학교 아이스하키 선수들의 훈련장으로 제공하고 있다.', 'title': '고려대학교 아이스링크'}}]\n",
      "[{'_index': 'gildong_1', '_id': '16637', '_score': 1.5005445, '_source': {'overview_summ': '제주도에서 유명한 재료를 사용한 음식을 맛볼 수 있는 곳이다. 대표메뉴는 갈치조림이다. 서울특별시 중구에 있는 한식 전문점이다.', 'title': '제주미항'}}, {'_index': 'gildong_1', '_id': '16621', '_score': 1.4902943, '_source': {'overview_summ': '제주특별자치도 서귀포시에 있는 한식당이다. 대표메뉴는 고등어구이이다. 갈치조림, 전복뚝배기도 유명하다.', 'title': '제주랑'}}, {'_index': 'gildong_1', '_id': '10715', '_score': 1.4863591, '_source': {'overview_summ': '순덕이네는 섬 지역인 제주에 위치하고 있는 식당인만큼 해물이 싱싱하다. 특히나 문어볶음이 유명하고 문어톳죽도 맛이 좋기로 소문났다.', 'title': '순덕이네해산물장터'}}]\n",
      "[{'_index': 'gildong_1', '_id': '20907', '_score': 1.270287, '_source': {'overview_summ': '현대에서는 흔히 맛 볼 수 없는 전통차와 수제차를 맛볼수 있다.오대산에서만 느낄수 있는 정취를 즐기며 차한잔의 여유를 즐길 수 있다.', 'title': '감로다원'}}, {'_index': 'gildong_1', '_id': '7592', '_score': 1.2680678, '_ignored': ['overview.keyword'], '_source': {'overview_summ': '부산점자도서관은 시각장애인들을 위해 특수자료를 제작하여 제공하고, 문화생활을 돕기 위한 사업을 운영하고 있다. 독서토론회, 독서퀴즈대회, 문화체육사업 등을 통해 시각장애인들의 문화 생활을 활성화하고, 자원봉사자 교육과 홍보·후원사업도 진행하고 있다.', 'title': '부산점자도서관'}}, {'_index': 'gildong_1', '_id': '21536', '_score': 1.243811, '_source': {'overview_summ': '지리산 자락 황산 기슭에 위치한 곳으로, 국악전시 체험관, 독공실, 야외공연장, 국악인 묘역, 사당 등의 시설물로 이루어져 있고, 판소리를 비롯한 우리 음악의 모든 것을 알 수 있는 곳이다.', 'title': '국악의 성지'}}]\n",
      "Total time: 0.6785941123962402\n",
      "\n",
      "-------------------------\n",
      "\n",
      "Async\n",
      "[{'_index': 'gildong_1', '_id': '12552', '_score': 1.3690594, '_ignored': ['overview.keyword'], '_source': {'overview_summ': '대구광역시 달성군 다사읍 세천리에 위치한 엄마밥상 세천점은 세련된 외관과 고급스러운 분위기를 가지고 있으며, 어린이를 위한 놀이방과 식사할 수 있는 룸이 있어 가족들에게 인기가 있습니다. 대표 메뉴로는 점심특선 엄마밥상이 있으며, 굴전, 고등어, 게장 등 다양한 메뉴를 즐길 수 있습니다. 북다사IC에서 가깝고, 인근에는 마천산산림욕장과 불은사가 있습니다.', 'title': '엄마밥상 세천점', 'contenttypeid': '음식점'}}, {'_index': 'gildong_1', '_id': '6397', '_score': 1.3228592, '_ignored': ['overview_summ.keyword', 'overview.keyword'], '_source': {'overview_summ': '바비레드 하남점은 스타필드 하남 지하 1층에 있는 퓨전 이탈리안 레스토랑이다. 복합 쇼핑몰인 스타필드에 있어서 가족과 같이 가기 좋은 식당이다. 이곳은 강남역 맛집으로 유명한 바비레드의 하남지점으로 샹들리에 조명의 깔끔하지만 조금은 화려한 느낌의 식당 내부이다. 대표 메뉴는 매운 갈비 파스타이다. 갈비 파스타의 원조 식당으로 매운맛은 주문 시 조절이 가능하다. 키즈 메뉴도 있고 아이들이 색칠 놀이를 할 수 있는 키트와 스티커를 주어 음식을 기다리는 동안 지루해하지 않아 어린이와 같이 가도 편히 음식을 즐길 수 있다.', 'title': '바비레드 하남점', 'contenttypeid': '음식점'}}, {'_index': 'gildong_1', '_id': '3922', '_score': 1.3152639, '_ignored': ['overview.keyword'], '_source': {'overview_summ': '돈족골은 지하철 9호선 석촌고분역 2번 출구 바로 앞에 위치한 맛집으로, 생방송에서 소개되었습니다. 대표 메뉴는 등갈비이며, 다양한 반찬과 사이드 메뉴도 제공됩니다. 매장은 입석과 좌석 테이블, 단체석이 있으며, 주차장도 넓게 마련되어 있습니다. 인근에는 석촌호수와 대형 테마파크 놀이동산이 있어 연계 관광이 가능합니다.', 'title': '돈족골', 'contenttypeid': '음식점'}}]\n",
      "[{'_index': 'gildong_1', '_id': '24488', '_score': 1.3961453, '_source': {'overview_summ': '워터킹덤은 사계절 편안한 휴식도 즐기고 짜릿한 즐거움도 느낄 수 있는 실내형 워터파크이다. 서울 도심에서 멀리 나갈 필요 없이, 궂은 날씨에도 상관없이 가족,친구,연인과 함께 365일 워터파크를 즐길 수 있다.', 'title': '파크하비오 워터킹덤&스파', 'contenttypeid': '관광지'}}, {'_index': 'gildong_1', '_id': '22356', '_score': 1.3726562, '_source': {'overview_summ': '쇼핑몰이 위치한 단지내에 세계최대의 실내주제공원인 롯데월드 어드벤쳐 및 우리민족의 문화와 민속을 쉽게 접할 수 있는 민속박물관, 그리고 연중무휴로 연인과 가족이 함께스케이트를 즐길수 있는 아이스링크 및 실내수영장, 볼링장, 스포츠센터 등이 있다. 또한 백화점과 롯데마트도 같이 있어 문화와 쇼핑 여가생활을 동시에 즐길 수 있는 명소이다.', 'title': '롯데월드 쇼핑몰', 'contenttypeid': '쇼핑'}}, {'_index': 'gildong_1', '_id': '2503', '_score': 1.3254547, '_ignored': ['overview_summ.keyword', 'overview.keyword'], '_source': {'overview_summ': '동두천 탑동동 왕방산 자락에 총 18만 ㎡의 부지에 계절과 날씨에 상관없이 즐길 수 있는 전천후 숲 체험 시설이다. ‘놀자숲’은 실내 체험시설인 놀자 센터와 놀이시설을 갖춘 실외 공간으로 나뉘어져 있어 다양한 시설물을 통해 자연과 모험을 즐길 수 있다.익스트림 슬라이드, 계곡 위 네트 어드벤쳐, 트리하우스, 숲 놀이터 등 가족단위 관광객들이 자연 속에서 즐길 수 있는 다양한 시설로 조성되어 있다. 실내 이용권과 실외 이용권을 따로 구입할 수 있고 실내외 종합 입장권을 구입할 경우 좀 더 저렴하게 이용할 수 있다.', 'title': '놀자숲', 'contenttypeid': '관광지'}}]\n",
      "[{'_index': 'gildong_1', '_id': '3501', '_score': 1.3549018, '_source': {'overview_summ': '더세리 호스텔은 제주 서귀포 시외터미널과 제주월드컵경기장 지척에 위치해 있다. 침실과 한실을 갖춘 객실을 비롯해 수영장, 레스토랑, 바비큐, 간이공동주방 등 다양한 부대시설이 마련되어 있다. 좀 더 편리하고 안락하게 머물 수 있도록 안마의자와 신문 서비스도 제공한다. 장애인 주차 및 접근로, 엘리베이터, 화장실 등 장애인 편의시설도 잘 갖춰져 있다.', 'title': '더 세리 호스텔 [한국관광 품질인증/Korea Quality]', 'contenttypeid': '숙박'}}, {'_index': 'gildong_1', '_id': '21547', '_score': 1.3459368, '_source': {'overview_summ': '헌정기념관은 1998년 5월 29일 국회개원 50주년 기념사업의 일환으로 건립, 개관하여 국민에게 개방해오고 있다.', 'title': '국회 방문자센터 헌정기념관', 'contenttypeid': '문화시설'}}, {'_index': 'gildong_1', '_id': '21173', '_score': 1.340215, '_source': {'overview_summ': '고려대학교 아이스링크장은 1998년 개장하여 사계절 연중무휴로 운영되는 최고의 실내빙상장으로서 어린이들의 건강 증진과 직장인들의 여가선용, 빙상스포츠 발전을 위하여 최선을 다하고 있다. 타 링크장 전문가들도 인정한 최고의 시설과 빙질을 자랑하고 고려대학교 아이스하키 선수들의 훈련장으로 제공하고 있다.', 'title': '고려대학교 아이스링크', 'contenttypeid': '레포츠'}}]\n",
      "[{'_index': 'gildong_1', '_id': '16637', '_score': 1.5005445, '_source': {'overview_summ': '제주도에서 유명한 재료를 사용한 음식을 맛볼 수 있는 곳이다. 대표메뉴는 갈치조림이다. 서울특별시 중구에 있는 한식 전문점이다.', 'title': '제주미항', 'contenttypeid': '음식점'}}, {'_index': 'gildong_1', '_id': '16621', '_score': 1.4902943, '_source': {'overview_summ': '제주특별자치도 서귀포시에 있는 한식당이다. 대표메뉴는 고등어구이이다. 갈치조림, 전복뚝배기도 유명하다.', 'title': '제주랑', 'contenttypeid': '음식점'}}, {'_index': 'gildong_1', '_id': '10715', '_score': 1.4863591, '_source': {'overview_summ': '순덕이네는 섬 지역인 제주에 위치하고 있는 식당인만큼 해물이 싱싱하다. 특히나 문어볶음이 유명하고 문어톳죽도 맛이 좋기로 소문났다.', 'title': '순덕이네해산물장터', 'contenttypeid': '음식점'}}]\n",
      "[{'_index': 'gildong_1', '_id': '20907', '_score': 1.270287, '_source': {'overview_summ': '현대에서는 흔히 맛 볼 수 없는 전통차와 수제차를 맛볼수 있다.오대산에서만 느낄수 있는 정취를 즐기며 차한잔의 여유를 즐길 수 있다.', 'title': '감로다원', 'contenttypeid': '음식점'}}, {'_index': 'gildong_1', '_id': '7592', '_score': 1.2680678, '_ignored': ['overview.keyword'], '_source': {'overview_summ': '부산점자도서관은 시각장애인들을 위해 특수자료를 제작하여 제공하고, 문화생활을 돕기 위한 사업을 운영하고 있다. 독서토론회, 독서퀴즈대회, 문화체육사업 등을 통해 시각장애인들의 문화 생활을 활성화하고, 자원봉사자 교육과 홍보·후원사업도 진행하고 있다.', 'title': '부산점자도서관', 'contenttypeid': '문화시설'}}, {'_index': 'gildong_1', '_id': '21536', '_score': 1.243811, '_source': {'overview_summ': '지리산 자락 황산 기슭에 위치한 곳으로, 국악전시 체험관, 독공실, 야외공연장, 국악인 묘역, 사당 등의 시설물로 이루어져 있고, 판소리를 비롯한 우리 음악의 모든 것을 알 수 있는 곳이다.', 'title': '국악의 성지', 'contenttypeid': '관광지'}}]\n",
      "Total time: 0.21964216232299805\n"
     ]
    }
   ],
   "source": [
    "import time\n",
    "\n",
    "\n",
    "# Output of Sync\n",
    "print(\"\\n-------------------------\\n\")\n",
    "print(\"Sync\")\n",
    "\n",
    "retriever = Ragcar(\n",
    "    tool=\"semantic_search\", \n",
    "    src=\"es\", \n",
    "    model={\n",
    "        \"host_n\": os.getenv('ELASTICSEARCH_HOST'),\n",
    "        \"encoder_key\": {\n",
    "            \"src\": \"googledrive\", \n",
    "            \"model\": {\n",
    "                \"model_n\": \"training_klue-stsbenchmark_continue-training_klue-roberta-large_2022-10-31_09-49-34\",\n",
    "                \"model_url\": \"https://drive.google.com/file/d/1F2P-GA9P9PYuUbK_tYotn68P8MbR0EBW/view?usp=drive_link\"\n",
    "            }\n",
    "        }\n",
    "    }, \n",
    "    use_async=False\n",
    ")\n",
    "\n",
    "start = time.time()\n",
    "hits = retriever(\n",
    "    questions, \n",
    "    \"sbert_vector\", \n",
    "    index_n=os.getenv('ELASTICSEARCH_INDEX'),\n",
    "    top_k=3, \n",
    "    source_fields=[\"title\", \"overview_summ\"]\n",
    ")\n",
    "end = time.time() - start\n",
    "for hit in hits:\n",
    "    print(hit)\n",
    "print(f\"Total time: {end}\")\n",
    "\n",
    "\n",
    "async_retriever = Ragcar(\n",
    "    tool=\"semantic_search\", \n",
    "    src=\"es\", \n",
    "    model={\n",
    "        \"host_n\": os.getenv('ELASTICSEARCH_HOST'),\n",
    "        \"encoder_key\": {\n",
    "            \"src\": \"googledrive\", \n",
    "            \"model\": {\n",
    "                \"model_n\": \"training_klue-stsbenchmark_continue-training_klue-roberta-large_2022-10-31_09-49-34\",\n",
    "                \"model_url\": \"https://drive.google.com/file/d/1F2P-GA9P9PYuUbK_tYotn68P8MbR0EBW/view?usp=drive_link\"\n",
    "            }\n",
    "        }\n",
    "    }, \n",
    "    use_async=True\n",
    ")\n",
    "\n",
    "# Output of Async\n",
    "print(\"\\n-------------------------\\n\")\n",
    "print(\"Async\")\n",
    "start = time.time()\n",
    "hits = await async_retriever(\n",
    "    questions, \n",
    "    \"sbert_vector\", \n",
    "    index_n=os.getenv('ELASTICSEARCH_INDEX'),\n",
    "    top_k=3, \n",
    "    source_fields=[\"title\", \"overview_summ\", \"contenttypeid\"]\n",
    ")\n",
    "end = time.time() - start\n",
    "for hit in hits:\n",
    "    print(hit)\n",
    "print(f\"Total time: {end}\")"
   ]
  },
  {
   "cell_type": "markdown",
   "metadata": {},
   "source": [
    "### 데이터 유사성"
   ]
  },
  {
   "cell_type": "code",
   "execution_count": 13,
   "metadata": {},
   "outputs": [
    {
     "data": {
      "text/plain": [
       "[{'_index': 'gildong_1',\n",
       "  '_id': '20697',\n",
       "  '_score': 1.6915023,\n",
       "  '_source': {'overview_summ': '광화문 역 근처에 위치한 제주 토속 음식점이다. 제주도에서 직송한 싱싱한 갈치로 만든다.',\n",
       "   'title': '한라의집',\n",
       "   'contenttypeid': '음식점'}},\n",
       " {'_index': 'gildong_1',\n",
       "  '_id': '14253',\n",
       "  '_score': 1.6875191,\n",
       "  '_source': {'overview_summ': '제주특별자치도 서귀포시에 있는 한식당이다. 대표메뉴는 갈치조림이다. 갈치구이는 제주도의 대표메뉴이다.',\n",
       "   'title': '우리봉식당',\n",
       "   'contenttypeid': '음식점'}},\n",
       " {'_index': 'gildong_1',\n",
       "  '_id': '19375',\n",
       "  '_score': 1.6569988,\n",
       "  '_source': {'overview_summ': '토끼와거북이는 갈치조림부터 자연산 활어회, 상다리 부러지는 정식 상차림까지 제주도의 다양한 맛을 즐길 수 있는 향토 음식 전문점이다. 제주국제공항 근처에 위치해 제주 여행의 시작과 끝에 방문하기 좋고 넓은 주차장을 갖추고 있어 편리하다. 얼큰하고 깊은 맛의 갈치조림으로 유명하며 다양한 종류의 신선한 회도 함께 맛볼 수 있다. 아침 식사도 가능한 데다가, 규모가 큰 단독 건물 식당이라 단체로 식사하기 좋다. 메뉴가 다양해 골라 먹는 재미가 있는 곳이다.',\n",
       "   'title': '토끼와거북이',\n",
       "   'contenttypeid': '음식점'}}]"
      ]
     },
     "execution_count": 13,
     "metadata": {},
     "output_type": "execute_result"
    }
   ],
   "source": [
    "retriever(\n",
    "  \"16637\", \n",
    "  \"sbert_vector\", \n",
    "  index_n=os.getenv('ELASTICSEARCH_INDEX'), \n",
    "  top_k=3, \n",
    "  doc_id=True,\n",
    "  source_fields=[\"title\", \"overview_summ\", \"contenttypeid\"]\n",
    ")"
   ]
  },
  {
   "cell_type": "code",
   "execution_count": 14,
   "metadata": {},
   "outputs": [
    {
     "data": {
      "text/plain": [
       "[{'_index': 'gildong_1',\n",
       "  '_id': '21805',\n",
       "  '_score': 1.6153404,\n",
       "  '_ignored': ['overview.keyword'],\n",
       "  '_source': {'overview_summ': '1988년 전후로 형성된 남대문 갈치조림 골목은 저렴한 가격으로 매콤하고 얼큰한 갈치조림을 제공하여 맛거리로 유명해졌다. 주변 식당들이 갈치조림으로 간판을 바꾸면서 발전하였고, 원재료는 국산 갈치를 사용하며 각 식당마다 고유의 맛을 제공한다. 이 골목은 남대문시장의 대표 골목으로 알려져 있으며, 직장인들과 시장 상인들에게 필수 점심 코스로 인기가 있다. 일본 관광객들도 많이 찾아오며, 맛에 반해 한국을 다시 방문할 정도로 인기가 있다.',\n",
       "   'title': '남대문 갈치조림골목',\n",
       "   'contenttypeid': '관광지'}},\n",
       " {'_index': 'gildong_1',\n",
       "  '_id': '3736',\n",
       "  '_score': 1.4437943,\n",
       "  '_source': {'overview_summ': '도두항은 용두암 해안도로와 이호테우 사이에 있는 방파제로, 관탈도와 추자도행 낚시 배들이 출항하는 곳으로 유명하다. 제주 국제공항에서 차로 15분 거리에 있고, 발판도 비교적 좋아 낚시꾼들이 즐겨 찾는다. 제주 시내에서 가깝고, 신선한 해산물이 있는 유명 맛집, 낚시점들이 있어 관광객과 현지인 모두 편리하게 이용할 수 있다. 또한, 유람선과 요트 등 해양 레저 시설도 있어 많은 관광객이 찾는 곳이다.',\n",
       "   'title': '도두항',\n",
       "   'contenttypeid': '관광지'}},\n",
       " {'_index': 'gildong_1',\n",
       "  '_id': '8926',\n",
       "  '_score': 1.4152282,\n",
       "  '_ignored': ['overview_summ.keyword', 'overview.keyword'],\n",
       "  '_source': {'overview_summ': '서귀포항은 우리나라 최남단에 자리하고 있으며, 한라산이 있어 여름을 제외하고 평온한 해상 날씨를 자랑한다. 어선뿐만 아니라 관광 항구로서도, 관광 잠수함, 유람선, 선상낚시, 제트보트, 스쿠버다이빙 등 다양한 레저시설이 함께 있는 곳이다. 서귀포항 주변에는 문섬과 새섬, 섶섬 등 아름다운 섬들이 펼쳐져 있어 해양 생태계 보전지역 및 해양 보호지역으로 지정되어 있다. 특히 문섬 앞바다는 산호 풍경이 아름다워 다이버들이 즐겨 찾는 곳이기도 하다. 서귀포항을 지나면 새연교를 따라 이어지는 새섬 공원도 있어 한적한 바다와 해안을 둘러보기에 좋다.',\n",
       "   'title': '서귀포항',\n",
       "   'contenttypeid': '관광지'}}]"
      ]
     },
     "execution_count": 14,
     "metadata": {},
     "output_type": "execute_result"
    }
   ],
   "source": [
    "retriever(\n",
    "  \"16637\", \n",
    "  \"sbert_vector\", \n",
    "  index_n=os.getenv('ELASTICSEARCH_INDEX'), \n",
    "  top_k=3, \n",
    "  doc_id=True,\n",
    "  source_fields=[\"title\", \"overview_summ\", \"contenttypeid\"],\n",
    "  filter=[{\"match\": {\"contenttypeid\": \"관광지\"}}]\n",
    ")"
   ]
  },
  {
   "cell_type": "markdown",
   "metadata": {},
   "source": [
    "## Retrieve & Re-Rank"
   ]
  },
  {
   "cell_type": "code",
   "execution_count": 15,
   "metadata": {},
   "outputs": [
    {
     "name": "stderr",
     "output_type": "stream",
     "text": [
      "No sentence-transformers model found with name leewaay/kpf-bert-base-klueSTS-cross. Creating a new one with MEAN pooling.\n"
     ]
    }
   ],
   "source": [
    "retriever = Ragcar(\n",
    "    tool=\"semantic_search\", \n",
    "    src=\"es\", \n",
    "    model={\n",
    "        \"host_n\": os.getenv('ELASTICSEARCH_HOST'),\n",
    "        \"encoder_key\": {\n",
    "            \"src\": \"googledrive\", \n",
    "            \"model\": {\n",
    "                \"model_n\": \"training_klue-stsbenchmark_continue-training_klue-roberta-large_2022-10-31_09-49-34\",\n",
    "                \"model_url\": \"https://drive.google.com/file/d/1F2P-GA9P9PYuUbK_tYotn68P8MbR0EBW/view?usp=drive_link\"\n",
    "            }\n",
    "        }\n",
    "    }\n",
    ")\n",
    "\n",
    "reranker = Ragcar(tool=\"sentence_similarity\", src=\"model_name_or_path\", model=\"leewaay/kpf-bert-base-klueSTS-cross\")"
   ]
  },
  {
   "cell_type": "code",
   "execution_count": 16,
   "metadata": {},
   "outputs": [],
   "source": [
    "# for yna\n",
    "import re\n",
    "\n",
    "\n",
    "# retrieve the query\n",
    "def search(question):\n",
    "    # Output of top-k hits from bi-encoder\n",
    "    print(\"\\n-------------------------\\n\")\n",
    "    print(\"Top-3 Bi-Encoder Retrieval hits\")\n",
    "    \n",
    "    hits = retriever(\n",
    "        question, \n",
    "        \"sbert_vector\", \n",
    "        index_n=os.getenv('ELASTICSEARCH_INDEX'),\n",
    "        top_k=10, \n",
    "        source_fields=[\"title\", \"overview_summ\"]\n",
    "    )\n",
    "    \n",
    "    corpus = [\"{}, {}\".format(hit['_source']['title'], hit['_source']['overview_summ']) for hit in hits]\n",
    "    \n",
    "    for idx, hit in enumerate(hits[0:3]):\n",
    "        print(\"\\t{:.3f}\\t{}\".format(hit['_score'], corpus[idx]))\n",
    "        \n",
    "    \n",
    "    # Output of top-k hits from bi-encoder\n",
    "    print(\"\\n-------------------------\\n\")\n",
    "    print(\"Top-3 Cross-Encoder Re-ranker hits\")\n",
    "    \n",
    "    hits = reranker(question, corpus, sorted=True)\n",
    "    \n",
    "    for idx, hit in enumerate(hits[0:3]):\n",
    "        print(\"\\t{:.3f}\\t{}\".format(hit[0], corpus[hit[2]]))"
   ]
  },
  {
   "cell_type": "code",
   "execution_count": 17,
   "metadata": {},
   "outputs": [
    {
     "name": "stdout",
     "output_type": "stream",
     "text": [
      "\n",
      "-------------------------\n",
      "\n",
      "Top-3 Bi-Encoder Retrieval hits\n",
      "\t1.494\t또올래캠프, 또올래오토캠핑장은 경기도 가평군 북면에 위치한 캠핑장으로 특히 아이들이 즐길거리가 많아 주로 가족단위로 방문하는 곳이다. 아이들이 좋아하는 야외 놀이터, 레일기차, 탁구장, 방방이, 분수물놀이장과 시원한 계곡에서 물놀이 등을 즐길 수 있다. 계절에 따라 밤 따기, 송어체험 등 계절행사에 참여할 수 있다.\n",
      "\t1.480\t영월키즈캠핑장, 영월의 법흥계곡에 위치한 영월키즈캠핑장는 아이들을 위한 다양한 체험 프로그램과 이벤트를 진행하는 캠핑장이다. 아이들은 물론 어른들도 참여 가능하여 온 가족이 캠핑하기 좋다. 바로 옆 계곡에서는 물놀이는 물론 다이빙, 카약을 즐길 수 있다. 총 90여 개의 사이트가 있고, 일반, 타프 사이트, 카라반 사이트로 크게 나눠져 있다. 겨울에는 장박 예약도 가능하고, 현지 농산물이나 닭갈비 밀키트 등을 예약 주문 가능하다.\n",
      "\t1.480\t요기는캠핑장, 강원도 영월에 위치한 요기는캠핑장은 아이가 있는 가족들이 즐기기 좋은 캠핑장이다. 시원하고 맑은 계곡과 수영장, 워터슬라이드, 트램펄린 등 지치지 않는 아이들을 위한 놀이기구들이 준비되어 있다. 가을에는 밤 따기 체험, 겨울에는 눈썰매 등 다양한 활동으로 추억을 남길 수 있다.\n",
      "\n",
      "-------------------------\n",
      "\n",
      "Top-3 Cross-Encoder Re-ranker hits\n",
      "\t0.901\t이사부사자공원&그림책 나라, 가족형 테마공원으로 동해안의 아름다운 절경을 가장 가까이서 감상할 수 있다. 사계절 썰매장인 터비 썰매는 가족, 친구, 연인들에게 동심의 세계를 안겨줄 것이며, 야간에는 추억의 명화를 감상할 수 있다.\n",
      "\t0.892\t마운틴코스터, 강원도 평창 용평리조트에 위치한 마운틴코스터는 SNS에서 인기를 얻고 있는 액티비티로, 탑승자가 속도를 조절할 수 있는 롤러코스터이다. 최고 시속 40km로 가속이 가능하며, 아이와 함께 즐길 수 있다. 티켓은 드래곤플라자 종합매표소에서 구매할 수 있다.\n",
      "\t0.867\t요기는캠핑장, 강원도 영월에 위치한 요기는캠핑장은 아이가 있는 가족들이 즐기기 좋은 캠핑장이다. 시원하고 맑은 계곡과 수영장, 워터슬라이드, 트램펄린 등 지치지 않는 아이들을 위한 놀이기구들이 준비되어 있다. 가을에는 밤 따기 체험, 겨울에는 눈썰매 등 다양한 활동으로 추억을 남길 수 있다.\n"
     ]
    }
   ],
   "source": [
    "search(\"강원도에서 아이와 익스트림 스포츠를 즐길 수 있는 여행지 추천해줘\")"
   ]
  }
 ],
 "metadata": {
  "kernelspec": {
   "display_name": "rens",
   "language": "python",
   "name": "python3"
  },
  "language_info": {
   "codemirror_mode": {
    "name": "ipython",
    "version": 3
   },
   "file_extension": ".py",
   "mimetype": "text/x-python",
   "name": "python",
   "nbconvert_exporter": "python",
   "pygments_lexer": "ipython3",
   "version": "3.10.13"
  },
  "orig_nbformat": 4,
  "vscode": {
   "interpreter": {
    "hash": "a545914905f7133bd9391d6777e0ef03369109a34050a83c08d63903eaf0a072"
   }
  }
 },
 "nbformat": 4,
 "nbformat_minor": 2
}
