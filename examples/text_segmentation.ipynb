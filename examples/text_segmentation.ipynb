{
 "cells": [
  {
   "cell_type": "code",
   "execution_count": 1,
   "metadata": {},
   "outputs": [],
   "source": [
    "from ragcar import Ragcar"
   ]
  },
  {
   "cell_type": "code",
   "execution_count": 2,
   "metadata": {},
   "outputs": [
    {
     "data": {
      "text/plain": [
       "'Available models for text_segmentation are ([src]: clova, [model]: YOUR_MODEL(https://www.ncloud.com/product/aiService/clovaStudio))'"
      ]
     },
     "execution_count": 2,
     "metadata": {},
     "output_type": "execute_result"
    }
   ],
   "source": [
    "Ragcar.available_models(\"text_segmentation\")"
   ]
  },
  {
   "cell_type": "markdown",
   "metadata": {},
   "source": [
    "### HyperCLOVA 모델\n",
    "`.env` 파일 또는 환경 변수로 `X-NCP-APIGW-API-KEY`, `X-NCP-CLOVASTUDIO-API-KEY`를 설정하거나 다음과 같이 직접 변수를 입력합니다. \n",
    "HyperCLOVA API 사용방법은 [여기서](https://guide.ncloud-docs.com/docs/clovastudio-explorer03) 참고해주세요.\n",
    "* model_n: API URL\n",
    "* api_key: X-NCP-APIGW-API-KEY\n",
    "* app_key: X-NCP-CLOVASTUDIO-API-KEY\n",
    "\n",
    "##### Parameters for Prediction\n",
    "* alpha: int = -100\n",
    "> 문단 나누기를 위한 thresholds 값. 클수록 나눠지는 문단 수 증가\n",
    "> - 범위: -1.5~1.5, -100 (-100 입력 시 모델이 최적값으로 문단 나누기 자동 수행)\n",
    "* seg_cnt: int = -1,\n",
    "> 원하는 문단 나누기 수\n",
    "> - 범위: 1 이상 (-1로 설정 시 모델이 최적 문단 수로 분리)\n",
    "* post_process: bool = True,\n",
    "> 문단 나누기 수행 후 원하는 길이로 문단을 합치거나 나누는 후처리 수행 여부\n",
    "> - true: postProcess 관련 파라미터 작동\n",
    "> - false: postProcess 관련 파라미터 미작동\n",
    "* min_size: int = 300,\n",
    "> post process module 적용 시 문단에 포함되는 문자열의 최소 글자 수\n",
    "> - 범위: 0 ~ postProcessMaxSize\n",
    "* max_size: int = 1000,\n",
    "> post process module 적용 시 문단에 포함되는 문자열의 최대 글자 수\n",
    "> - 범위: 1 이상\n",
    "* use_async: bool = False"
   ]
  },
  {
   "cell_type": "code",
   "execution_count": 3,
   "metadata": {},
   "outputs": [],
   "source": [
    "import logging\n",
    "import os\n",
    "from dotenv import load_dotenv\n",
    "\n",
    "load_dotenv()\n",
    "logging.basicConfig(level=logging.INFO)"
   ]
  },
  {
   "cell_type": "code",
   "execution_count": 4,
   "metadata": {},
   "outputs": [
    {
     "data": {
      "text/plain": [
       "'Available fields for clova are ([field]: model_n, [type]: str), ([field]: api_key, [type]: str), ([field]: app_key, [type]: str)'"
      ]
     },
     "execution_count": 4,
     "metadata": {},
     "output_type": "execute_result"
    }
   ],
   "source": [
    "Ragcar.available_model_fields(\"clova\")"
   ]
  },
  {
   "cell_type": "code",
   "execution_count": 5,
   "metadata": {},
   "outputs": [],
   "source": [
    "ts = Ragcar(\n",
    "    tool=\"text_segmentation\", \n",
    "    src=\"clova\",\n",
    "    model={\n",
    "        \"model_n\": \"https://clovastudio.apigw.ntruss.com/testapp/v1/api-tools/segmentation/{}\".format(os.getenv('SEGMENTATION_APP_ID')),\n",
    "        \"api_key\": os.getenv(\"X-NCP-APIGW-API-KEY\"),\n",
    "        \"app_key\": os.getenv(\"X-NCP-CLOVASTUDIO-API-KEY\")\n",
    "    },\n",
    "    min_size=100,\n",
    "    max_size=200\n",
    ")"
   ]
  },
  {
   "cell_type": "code",
   "execution_count": 6,
   "metadata": {},
   "outputs": [
    {
     "name": "stderr",
     "output_type": "stream",
     "text": [
      "INFO:ragcar.models.base:{\n",
      "    \"id\": \"clova-48d92347-02e4-432e-8cde-dcc686b03b97\",\n",
      "    \"model\": \"https://clovastudio.apigw.ntruss.com/testapp/v1/api-tools/segmentation/c5c3db9062814e41bcd6ad430c898a88\",\n",
      "    \"parameters\": {\n",
      "        \"text\": \"네이버클라우드는 27일 ‘하이퍼클로바X’가 한국판 AI 성능 평가 체계 ‘KMMLU(Measuring Massive Multitask Language Understanding in Korean)’에서 오픈AI, 구글의 생성형 AI보다 높은 점수를 기록했다고 밝혔다. KMMLU 연구 논문에 따르면 일반 지식과 한국 특화 지식을 종합한 전반적인 성능 평가에서 하이퍼클로바X는 오픈AI의 ‘GPT-3.5 터보’와 구글의 ‘제미나이 프로’보다 높은 점수를 기록했다. 한국 특화 지식 기준으로는 오픈AI의 최신 버전인 ‘GPT-4′보다도 높은 점수를 기록했다.\\n\\nKMMLU는 국내 개방형(오픈소스) 언어모델 연구팀 ‘해례’가 이끄는 AI 성능 평가 지표 구축 프로젝트로 네이버클라우드도 설계 과정에 참여했다. 인문학, 사회학, 과학∙기술 등 45개 분야에서 전문가 수준의 지식을 묻는 3만5030개 문항으로 구성됐다. 수학적 추론 능력과 같이 세계 공통으로 적용 가능한 광범위한 지식을 묻는 문항 비율이 약 80%, 한반도 지리, 국내법 등 한국 특화 문제 해결 능력을 평가하기 위한 문항이 20%를 차지한다.\\n\\n네이버클라우드 관계자는 \\\" 오픈AI, 구글 등 미국 기업들이 AI 성능을 확인하기 위해 주로 사용하는 지표인 ‘MMLU(대규모 다중작업 언어 이해)’를 한국어로 번역하는 경우, 부정확한 번역과 영어권 국가만의 문화적 배경 때문에 AI 모델의 한국어 능력을 제대로 가늠하기 어렵다”며 “KMMLU는 한국어가 원본인 시험 문제로 구성됐기 때문에 AI의 한국어 이해 역량을 보다 정확하게 평가할 수 있다”고 했다.\",\n",
      "        \"alpha\": -100,\n",
      "        \"segCnt\": -1,\n",
      "        \"postProcess\": true,\n",
      "        \"postProcessMinSize\": 100,\n",
      "        \"postProcessMaxSize\": 200\n",
      "    }\n",
      "}\n",
      "INFO:ragcar.models.base:{\n",
      "    \"id\": \"clova-48d92347-02e4-432e-8cde-dcc686b03b97\",\n",
      "    \"message\": \"Request completed successfully\"\n",
      "}\n"
     ]
    },
    {
     "data": {
      "text/plain": [
       "[['네이버클라우드는 27일 ‘하이퍼클로바X’가 한국판 AI 성능 평가 체계 ‘KMMLU(Measuring Massive Multitask Language Understanding in Korean)’에서 오픈AI, 구글의 생성형 AI보다 높은 점수를 기록했다고 밝혔다.',\n",
       "  'KMMLU 연구 논문에 따르면 일반 지식과 한국 특화 지식을 종합한 전반적인 성능 평가에서 하이퍼클로바X는 오픈AI의 ‘GPT-3.5 터보’와 구글의 ‘제미나이 프로’보다 높은 점수를 기록했다.',\n",
       "  '한국 특화 지식 기준으로는 오픈AI의 최신 버전인 ‘GPT-4′보다도 높은 점수를 기록했다.'],\n",
       " ['KMMLU는 국내 개방형(오픈소스) 언어모델 연구팀 ‘해례’가 이끄는 AI 성능 평가 지표 구축 프로젝트로 네이버클라우드도 설계 과정에 참여했다.',\n",
       "  '인문학, 사회학, 과학∙기술 등 45개 분야에서 전문가 수준의 지식을 묻는 3만5030개 문항으로 구성됐다.'],\n",
       " ['수학적 추론 능력과 같이 세계 공통으로 적용 가능한 광범위한 지식을 묻는 문항 비율이 약 80%, 한반도 지리, 국내법 등 한국 특화 문제 해결 능력을 평가하기 위한 문항이 20%를 차지한다.'],\n",
       " ['네이버클라우드 관계자는 \" 오픈AI, 구글 등 미국 기업들이 AI 성능을 확인하기 위해 주로 사용하는 지표인 ‘MMLU(대규모 다중작업 언어 이해)’를 한국어로 번역하는 경우, 부정확한 번역과 영어권 국가만의 문화적 배경 때문에 AI 모델의 한국어 능력을 제대로 가늠하기 어렵다”며 “KMMLU는 한국어가 원본인 시험 문제로 구성됐기 때문에 AI의 한국어 이해 역량을 보다 정확하게 평가할 수 있다”고 했다.']]"
      ]
     },
     "execution_count": 6,
     "metadata": {},
     "output_type": "execute_result"
    }
   ],
   "source": [
    "ts(\"\"\"네이버클라우드는 27일 ‘하이퍼클로바X’가 한국판 AI 성능 평가 체계 ‘KMMLU(Measuring Massive Multitask Language Understanding in Korean)’에서 오픈AI, 구글의 생성형 AI보다 높은 점수를 기록했다고 밝혔다. KMMLU 연구 논문에 따르면 일반 지식과 한국 특화 지식을 종합한 전반적인 성능 평가에서 하이퍼클로바X는 오픈AI의 ‘GPT-3.5 터보’와 구글의 ‘제미나이 프로’보다 높은 점수를 기록했다. 한국 특화 지식 기준으로는 오픈AI의 최신 버전인 ‘GPT-4′보다도 높은 점수를 기록했다.\n",
    "\n",
    "KMMLU는 국내 개방형(오픈소스) 언어모델 연구팀 ‘해례’가 이끄는 AI 성능 평가 지표 구축 프로젝트로 네이버클라우드도 설계 과정에 참여했다. 인문학, 사회학, 과학∙기술 등 45개 분야에서 전문가 수준의 지식을 묻는 3만5030개 문항으로 구성됐다. 수학적 추론 능력과 같이 세계 공통으로 적용 가능한 광범위한 지식을 묻는 문항 비율이 약 80%, 한반도 지리, 국내법 등 한국 특화 문제 해결 능력을 평가하기 위한 문항이 20%를 차지한다.\n",
    "\n",
    "네이버클라우드 관계자는 \" 오픈AI, 구글 등 미국 기업들이 AI 성능을 확인하기 위해 주로 사용하는 지표인 ‘MMLU(대규모 다중작업 언어 이해)’를 한국어로 번역하는 경우, 부정확한 번역과 영어권 국가만의 문화적 배경 때문에 AI 모델의 한국어 능력을 제대로 가늠하기 어렵다”며 “KMMLU는 한국어가 원본인 시험 문제로 구성됐기 때문에 AI의 한국어 이해 역량을 보다 정확하게 평가할 수 있다”고 했다.\"\"\")"
   ]
  }
 ],
 "metadata": {
  "kernelspec": {
   "display_name": "ragcar",
   "language": "python",
   "name": "python3"
  },
  "language_info": {
   "codemirror_mode": {
    "name": "ipython",
    "version": 3
   },
   "file_extension": ".py",
   "mimetype": "text/x-python",
   "name": "python",
   "nbconvert_exporter": "python",
   "pygments_lexer": "ipython3",
   "version": "3.10.13"
  }
 },
 "nbformat": 4,
 "nbformat_minor": 2
}
