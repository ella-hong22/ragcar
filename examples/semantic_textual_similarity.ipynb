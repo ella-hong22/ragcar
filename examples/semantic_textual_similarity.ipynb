{
 "cells": [
  {
   "cell_type": "code",
   "execution_count": 1,
   "metadata": {},
   "outputs": [],
   "source": [
    "from ragcar import Ragcar"
   ]
  },
  {
   "cell_type": "code",
   "execution_count": 2,
   "metadata": {},
   "outputs": [
    {
     "data": {
      "text/plain": [
       "'Available models for sentence_similarity are ([src]: model_name_or_path, [model]: leewaay/kpf-bert-base-klueNLI-klueSTS-MSL512, leewaay/klue-roberta-base-klueNLI-klueSTS-MSL512, leewaay/klue-roberta-large-klueNLI-klueSTS-MSL512, leewaay/kpf-bert-base-klueSTS-cross, leewaay/klue-roberta-large-klueSTS-cross, MODELS_SUPPORTED(https://huggingface.co/models?pipeline_tag=sentence-similarity)), ([src]: googledrive, [model]: YOUR_MODEL), ([src]: openai, [model]: text-embedding-3-large, text-embedding-3-small, text-embedding-ada-002, MODELS_SUPPORTED(https://platform.openai.com/docs/models)), ([src]: clova, [model]: YOUR_MODEL(https://www.ncloud.com/product/aiService/clovaStudio))'"
      ]
     },
     "execution_count": 2,
     "metadata": {},
     "output_type": "execute_result"
    }
   ],
   "source": [
    "Ragcar.available_models(\"sentence_similarity\")"
   ]
  },
  {
   "cell_type": "markdown",
   "metadata": {},
   "source": [
    "## [Semantic Textual Similarity](https://www.sbert.net/docs/usage/semantic_textual_similarity.html)"
   ]
  },
  {
   "cell_type": "code",
   "execution_count": 3,
   "metadata": {},
   "outputs": [],
   "source": [
    "sts = Ragcar(tool=\"sentence_similarity\", src=\"model_name_or_path\")"
   ]
  },
  {
   "cell_type": "code",
   "execution_count": 4,
   "metadata": {},
   "outputs": [
    {
     "data": {
      "text/plain": [
       "tensor([[ 0.9283, -0.0136,  0.3213]], device='cuda:0')"
      ]
     },
     "execution_count": 4,
     "metadata": {},
     "output_type": "execute_result"
    }
   ],
   "source": [
    "sts(\"저는 경기도에 살고 있어요\", [\"경기도에 거주하고 있습니다\", \"경기 시작 10분 전 입니다.\", \"서울 근교에 집이 있어요\"])"
   ]
  },
  {
   "cell_type": "markdown",
   "metadata": {},
   "source": [
    "### Parameter\n",
    "* sorted (bool): If True, returns similarity scores in descending order.\n",
    "* batch_size (int): Batch size for processing when handling multiple sentences.\n",
    "* convert_to_tensor (bool): If True, converts the embeddings to PyTorch tensors."
   ]
  },
  {
   "cell_type": "markdown",
   "metadata": {},
   "source": [
    "##### 유사도 내림차순 정렬"
   ]
  },
  {
   "cell_type": "code",
   "execution_count": 5,
   "metadata": {},
   "outputs": [
    {
     "data": {
      "text/plain": [
       "[[tensor(0.9283, device='cuda:0'), 0, 0],\n",
       " [tensor(0.3213, device='cuda:0'), 0, 2],\n",
       " [tensor(-0.0136, device='cuda:0'), 0, 1]]"
      ]
     },
     "execution_count": 5,
     "metadata": {},
     "output_type": "execute_result"
    }
   ],
   "source": [
    "sts(\"저는 경기도에 살고 있어요\", [\"경기도에 거주하고 있습니다\", \"경기 시작 10분 전 입니다.\", \"서울 근교에 집이 있어요\"], sorted=True)"
   ]
  },
  {
   "cell_type": "markdown",
   "metadata": {},
   "source": [
    "##### 다중 쿼리"
   ]
  },
  {
   "cell_type": "code",
   "execution_count": 6,
   "metadata": {},
   "outputs": [
    {
     "data": {
      "text/plain": [
       "[[tensor(0.6019, device='cuda:0'), 1, 3],\n",
       " [tensor(0.5841, device='cuda:0'), 0, 2],\n",
       " [tensor(0.5401, device='cuda:0'), 0, 3],\n",
       " [tensor(0.5081, device='cuda:0'), 0, 1],\n",
       " [tensor(0.3637, device='cuda:0'), 1, 2],\n",
       " [tensor(0.2483, device='cuda:0'), 0, 0],\n",
       " [tensor(0.1724, device='cuda:0'), 1, 1],\n",
       " [tensor(0.1133, device='cuda:0'), 1, 0]]"
      ]
     },
     "execution_count": 6,
     "metadata": {},
     "output_type": "execute_result"
    }
   ],
   "source": [
    "sts([\"흡연\", \"외도\"], [\"바람피면 죽는다\", \"담배피면 죽는다\", \"라이터\", \"간통\"], sorted=True)"
   ]
  },
  {
   "cell_type": "markdown",
   "metadata": {},
   "source": [
    "## [Paraphrase Mining](https://www.sbert.net/examples/applications/paraphrase-mining/README.html#paraphrase-mining)"
   ]
  },
  {
   "cell_type": "code",
   "execution_count": 7,
   "metadata": {},
   "outputs": [
    {
     "data": {
      "text/plain": [
       "[[tensor(0.1482, device='cuda:0'), 0, 1],\n",
       " [tensor(0.0773, device='cuda:0'), 0, 2],\n",
       " [tensor(0.1079, device='cuda:0'), 0, 3],\n",
       " [tensor(0.0597, device='cuda:0'), 0, 4],\n",
       " [tensor(0.1095, device='cuda:0'), 0, 5],\n",
       " [tensor(0.1804, device='cuda:0'), 1, 2],\n",
       " [tensor(0.1560, device='cuda:0'), 1, 3],\n",
       " [tensor(0.1296, device='cuda:0'), 1, 4],\n",
       " [tensor(0.1045, device='cuda:0'), 1, 5],\n",
       " [tensor(0.1511, device='cuda:0'), 2, 3],\n",
       " [tensor(0.1823, device='cuda:0'), 2, 4],\n",
       " [tensor(0.0626, device='cuda:0'), 2, 5],\n",
       " [tensor(-0.0300, device='cuda:0'), 3, 4],\n",
       " [tensor(0.0756, device='cuda:0'), 3, 5],\n",
       " [tensor(0.0215, device='cuda:0'), 4, 5]]"
      ]
     },
     "execution_count": 7,
     "metadata": {},
     "output_type": "execute_result"
    }
   ],
   "source": [
    "my_news = [\n",
    "    \"프로농구 2023-2024시즌, 10월 21일 인삼공사 vs SK 경기로 개막\", \n",
    "    \"LG 최원태, 이적 후 첫 경기서 완벽투…우승 향한 '화룡점정'(종합)\",\n",
    "    \"맨시티 홀란, AT 마드리드 친선경기 선발…그리에즈만과 맞대결\",\n",
    "    \"이재성, 프리시즌 경기서 골맛…마인츠, 장크트갈렌에 4-1 승\",\n",
    "    \"7월 건설경기실사지수 89.8…2년 7개월 만에 최고\", \n",
    "    \"한강∼아라뱃길 복원 모색…서울·인천·경기 '맞손'\",\n",
    "]\n",
    "\n",
    "sts(my_news)"
   ]
  },
  {
   "cell_type": "markdown",
   "metadata": {},
   "source": [
    "## [Bi-Encoder vs. Cross-Encoder](https://www.sbert.net/examples/applications/cross-encoder/README.html)"
   ]
  },
  {
   "cell_type": "code",
   "execution_count": 8,
   "metadata": {},
   "outputs": [
    {
     "name": "stderr",
     "output_type": "stream",
     "text": [
      "No sentence-transformers model found with name leewaay/kpf-bert-base-klueSTS-cross. Creating a new one with MEAN pooling.\n"
     ]
    }
   ],
   "source": [
    "bi_encoder = Ragcar(tool=\"sentence_similarity\", src=\"model_name_or_path\", model=\"distiluse-base-multilingual-cased-v1\")\n",
    "cross_encoder = Ragcar(tool=\"sentence_similarity\", src=\"model_name_or_path\", model=\"leewaay/kpf-bert-base-klueSTS-cross\")"
   ]
  },
  {
   "cell_type": "code",
   "execution_count": 9,
   "metadata": {},
   "outputs": [],
   "source": [
    "corpus = [\n",
    "    \"프로농구 2023-2024시즌, 10월 21일 인삼공사 vs SK 경기로 개막\", \n",
    "    \"LG 최원태, 이적 후 첫 경기서 완벽투…우승 향한 '화룡점정'(종합)\",\n",
    "    \"맨시티 홀란, AT 마드리드 친선경기 선발…그리에즈만과 맞대결\",\n",
    "    \"이재성, 프리시즌 경기서 골맛…마인츠, 장크트갈렌에 4-1 승\",\n",
    "    \"7월 건설경기실사지수 89.8…2년 7개월 만에 최고\", \n",
    "    \"한강∼아라뱃길 복원 모색…서울·인천·경기 '맞손'\",\n",
    "]\n",
    "\n",
    "query = \"류현진, 올라오지 않은 구속·장타에 고전…5이닝 버틴 건 수확(종합)\""
   ]
  },
  {
   "cell_type": "code",
   "execution_count": 10,
   "metadata": {},
   "outputs": [
    {
     "name": "stdout",
     "output_type": "stream",
     "text": [
      "\n",
      "-------------------------\n",
      "\n",
      "Top-3 Bi-Encoder Retrieval hits\n",
      "\t0.264\t이재성, 프리시즌 경기서 골맛…마인츠, 장크트갈렌에 4-1 승\n",
      "\t0.216\tLG 최원태, 이적 후 첫 경기서 완벽투…우승 향한 '화룡점정'(종합)\n",
      "\t0.202\t한강∼아라뱃길 복원 모색…서울·인천·경기 '맞손'\n",
      "\n",
      "-------------------------\n",
      "\n",
      "Top-3 Cross-Encoder Retrieval hits\n",
      "\t0.925\tLG 최원태, 이적 후 첫 경기서 완벽투…우승 향한 '화룡점정'(종합)\n",
      "\t0.908\t이재성, 프리시즌 경기서 골맛…마인츠, 장크트갈렌에 4-1 승\n",
      "\t0.843\t맨시티 홀란, AT 마드리드 친선경기 선발…그리에즈만과 맞대결\n"
     ]
    }
   ],
   "source": [
    "# Output of top hits from bi-encoder\n",
    "print(\"\\n-------------------------\\n\")\n",
    "print(\"Top-3 Bi-Encoder Retrieval hits\")\n",
    "hits = bi_encoder(query, corpus, sorted=True)\n",
    "for hit in hits[0:3]:\n",
    "    print(\"\\t{:.3f}\\t{}\".format(hit[0], corpus[hit[2]]))\n",
    "    \n",
    "\n",
    "# Output of top hits from bi-encoder\n",
    "print(\"\\n-------------------------\\n\")\n",
    "print(\"Top-3 Cross-Encoder Retrieval hits\")\n",
    "hits = cross_encoder(query, corpus, sorted=True)\n",
    "for hit in hits[0:3]:\n",
    "    print(\"\\t{:.3f}\\t{}\".format(hit[0], corpus[hit[2]]))"
   ]
  }
 ],
 "metadata": {
  "kernelspec": {
   "display_name": "rens",
   "language": "python",
   "name": "python3"
  },
  "language_info": {
   "codemirror_mode": {
    "name": "ipython",
    "version": 3
   },
   "file_extension": ".py",
   "mimetype": "text/x-python",
   "name": "python",
   "nbconvert_exporter": "python",
   "pygments_lexer": "ipython3",
   "version": "3.10.13"
  },
  "orig_nbformat": 4,
  "vscode": {
   "interpreter": {
    "hash": "a545914905f7133bd9391d6777e0ef03369109a34050a83c08d63903eaf0a072"
   }
  }
 },
 "nbformat": 4,
 "nbformat_minor": 2
}
