{
 "cells": [
  {
   "cell_type": "code",
   "execution_count": 1,
   "metadata": {},
   "outputs": [],
   "source": [
    "from ragcar import Ragcar"
   ]
  },
  {
   "cell_type": "code",
   "execution_count": 2,
   "metadata": {},
   "outputs": [
    {
     "data": {
      "text/plain": [
       "'Available models for sentence_embedding are ([src]: model_name_or_path, [model]: leewaay/kpf-bert-base-klueNLI-klueSTS-MSL512, leewaay/klue-roberta-base-klueNLI-klueSTS-MSL512, leewaay/klue-roberta-large-klueNLI-klueSTS-MSL512, MODELS_SUPPORTED(https://huggingface.co/models?pipeline_tag=sentence-similarity)), ([src]: googledrive, [model]: YOUR_MODEL), ([src]: openai, [model]: text-embedding-3-large, text-embedding-3-small, text-embedding-ada-002, MODELS_SUPPORTED(https://platform.openai.com/docs/models)), ([src]: clova, [model]: YOUR_MODEL(https://www.ncloud.com/product/aiService/clovaStudio))'"
      ]
     },
     "execution_count": 2,
     "metadata": {},
     "output_type": "execute_result"
    }
   ],
   "source": [
    "Ragcar.available_models(\"sentence_embedding\")"
   ]
  },
  {
   "cell_type": "code",
   "execution_count": 3,
   "metadata": {},
   "outputs": [
    {
     "data": {
      "text/plain": [
       "\"Available customizable src for sentence_embedding are ['clova', 'model_name_or_path', 'openai', 'googledrive']\""
      ]
     },
     "execution_count": 3,
     "metadata": {},
     "output_type": "execute_result"
    }
   ],
   "source": [
    "Ragcar.available_customizable_src(\"sentence_embedding\")"
   ]
  },
  {
   "cell_type": "markdown",
   "metadata": {},
   "source": [
    "# Parameters for Prediction\n",
    "* batch_size (int): Batch size for encoding multiple sentences\n",
    "* convert_to_tensor (bool): Whether to convert the output to a PyTorch tensor"
   ]
  },
  {
   "cell_type": "markdown",
   "metadata": {},
   "source": [
    "# Models"
   ]
  },
  {
   "cell_type": "markdown",
   "metadata": {},
   "source": [
    "## [Hugging Face 🤗](https://huggingface.co/models?library=sentence-transformers)\n",
    "모델은 기본적으로 ` ~/.cache/huggingface/hub` 경로에 저장됩니다."
   ]
  },
  {
   "cell_type": "code",
   "execution_count": 4,
   "metadata": {},
   "outputs": [],
   "source": [
    "se = Ragcar(tool=\"sentence_embedding\", src=\"model_name_or_path\")"
   ]
  },
  {
   "cell_type": "code",
   "execution_count": 5,
   "metadata": {},
   "outputs": [
    {
     "data": {
      "text/plain": [
       "array([-6.58809364e-01,  4.63990748e-01,  3.90021466e-02, -7.07361341e-01,\n",
       "       -1.84517097e+00, -4.38056797e-01,  3.11611056e-01,  5.25213480e-01,\n",
       "        1.78212538e-01, -8.21301639e-01,  4.31561321e-01,  9.97587815e-02,\n",
       "        4.46227610e-01,  5.40554881e-01, -1.93881333e-01,  1.41356029e-02,\n",
       "        1.06956398e+00,  8.30625892e-02,  9.29874182e-01, -6.62793696e-01,\n",
       "       -7.06055224e-01, -7.95130610e-01, -1.22563869e-01,  9.01221156e-01,\n",
       "        3.74794334e-01,  2.72473007e-01,  7.12210357e-01,  7.03881741e-01,\n",
       "       -4.61984694e-01, -2.15103582e-01, -1.15113579e-01, -4.15964484e-01,\n",
       "       -1.23442568e-01,  1.15470827e+00, -1.01813936e+00, -4.86400008e-01,\n",
       "       -1.28688455e+00,  5.35274208e-01,  5.93726039e-01, -1.76361680e+00,\n",
       "        8.42809021e-01,  6.33966029e-01, -5.23950219e-01,  4.43766385e-01,\n",
       "        1.24209809e+00, -1.83059645e+00, -1.74098265e+00, -2.25607622e-02,\n",
       "       -1.32158446e+00,  1.77973986e-01,  3.83968681e-01,  2.93152452e-01,\n",
       "        1.52455902e+00, -8.89900420e-03,  2.15464473e-01, -2.96066642e-01,\n",
       "        2.43371800e-01,  1.11455476e+00, -1.06958723e+00, -3.43006819e-01,\n",
       "        1.20665765e+00,  1.01627462e-01,  1.08702254e+00,  1.51663378e-01,\n",
       "       -1.32624853e+00, -9.85390544e-01, -4.38129902e-01,  6.50802851e-01,\n",
       "       -9.42147255e-01, -5.33855677e-01, -1.01071310e+00,  5.20300828e-02,\n",
       "       -1.23926997e+00, -7.62252212e-01, -5.48133135e-01,  1.67832702e-01,\n",
       "        1.07384562e+00,  2.17433631e-01,  1.40570715e-01,  2.42919788e-01,\n",
       "       -4.38528866e-01,  1.92228317e+00,  1.05732799e-01, -7.22087741e-01,\n",
       "       -2.82336026e-01, -2.82573104e-01,  9.48718488e-02,  4.25639063e-01,\n",
       "       -1.49181509e+00,  6.20202482e-01, -1.07031596e+00,  4.42625374e-01,\n",
       "        5.59004068e-01, -3.30673873e-01, -2.77595520e-01,  5.40434867e-02,\n",
       "       -3.73505980e-01,  2.43555963e-01,  3.12154889e-01, -4.65309739e-01,\n",
       "       -1.09812868e+00,  9.45055842e-01,  8.93555105e-01, -6.29636884e-01,\n",
       "       -4.25310463e-01, -7.71501958e-01, -1.20174341e-01,  2.13543534e+00,\n",
       "        1.63048613e+00, -1.45797968e-01, -1.01037249e-01, -1.07729149e+00,\n",
       "        3.37528080e-01,  3.64121765e-01, -1.48631752e+00,  6.80582345e-01,\n",
       "       -1.73736429e+00,  9.15990174e-01,  1.50256252e+00,  3.55213761e-01,\n",
       "       -1.57160789e-01,  1.00618792e+00, -8.73173952e-01, -1.31767654e+00,\n",
       "        1.52066123e+00, -8.82376790e-01, -4.03395921e-01,  1.12264924e-01,\n",
       "        2.10945740e-01, -5.43212891e-01, -4.93443966e-01, -4.25351351e-01,\n",
       "        1.09498847e+00, -1.65295458e+00,  9.97537225e-02,  1.79994464e-01,\n",
       "        1.23409283e+00, -3.19952190e-01,  1.32290375e+00,  8.40844989e-01,\n",
       "        4.72448885e-01,  1.81569576e-01, -1.70353606e-01, -3.38672936e-01,\n",
       "       -4.38501030e-01, -5.82030714e-01,  5.75957179e-01, -7.23854303e-01,\n",
       "        6.57514155e-01,  1.09683447e-01,  9.40133929e-01,  6.32274568e-01,\n",
       "        8.68801236e-01,  9.87394229e-02,  5.06180227e-01,  1.64014006e+00,\n",
       "       -6.55510187e-01, -5.49374223e-01,  2.65313476e-01,  1.31908916e-02,\n",
       "       -5.84212720e-01, -2.39694759e-01,  3.14197540e-01, -9.64537382e-01,\n",
       "        7.79309794e-02, -1.91710189e-01, -8.40367019e-01,  1.19122732e+00,\n",
       "       -7.19644606e-01, -1.58214617e+00, -1.63283777e+00, -7.33768880e-01,\n",
       "       -5.65474510e-01, -1.14691466e-01, -4.21907693e-01,  1.70388734e+00,\n",
       "        4.16473836e-01,  6.95010900e-01,  3.48701030e-01, -1.50671768e+00,\n",
       "       -7.68189192e-01, -3.48564625e-01,  1.19588047e-01,  5.93130708e-01,\n",
       "       -1.70319033e+00, -2.33678877e-01,  1.72985196e+00, -6.48048460e-01,\n",
       "       -9.27322090e-01,  5.61427116e-01, -4.29615319e-01, -6.40296459e-01,\n",
       "       -1.84681285e-02,  4.55691740e-02,  8.70040178e-01,  4.12777811e-01,\n",
       "       -5.70371389e-01, -1.08567417e-01, -1.57722986e+00, -6.80207372e-01,\n",
       "        1.18255055e+00,  4.06961441e-01,  4.23614532e-01, -7.07375288e-01,\n",
       "       -2.22653940e-01,  4.00855355e-02,  1.42457709e-01,  1.00618601e+00,\n",
       "        1.32084219e-03, -9.26100492e-01, -3.71084899e-01,  9.31188583e-01,\n",
       "       -5.86914480e-01, -8.08266699e-01, -8.52113962e-01, -4.61263508e-01,\n",
       "        1.14445128e-01,  8.42430830e-01, -9.38176036e-01,  8.90965611e-02,\n",
       "        9.05047953e-02,  2.64836043e-01, -7.86332250e-01, -8.60211849e-02,\n",
       "        5.38364649e-01, -1.26717103e+00,  4.58942622e-01, -1.49851486e-01,\n",
       "       -1.00167513e+00, -9.77436483e-01, -1.00162232e+00, -7.92288408e-02,\n",
       "       -7.89732218e-01,  1.30263221e+00, -5.98461866e-01, -1.28259706e+00,\n",
       "       -6.73674226e-01, -4.23510015e-01,  3.74404788e-01, -6.55676663e-01,\n",
       "       -2.24835753e+00,  6.89756036e-01, -9.28385496e-01,  1.55568402e-02,\n",
       "       -4.97548729e-01,  2.11468911e+00,  4.31865573e-01, -1.93711013e-01,\n",
       "        6.04048431e-01, -1.94486105e+00, -4.65803742e-01, -1.86989975e+00,\n",
       "       -7.28072286e-01,  1.48814940e+00,  1.33555740e-01,  2.11906537e-01,\n",
       "       -7.15016663e-01,  5.21117598e-02,  1.45909756e-01,  9.30746496e-02,\n",
       "        2.59875320e-02, -7.58175194e-01, -2.19133019e-01, -4.48436737e-01,\n",
       "        1.89597249e-01, -9.83967245e-01, -3.08015794e-01, -5.48012733e-01,\n",
       "        1.09811032e+00, -8.69073153e-01, -1.14849038e-01, -8.67530763e-01,\n",
       "        1.50933969e+00, -1.00564444e+00,  1.16307271e+00,  1.73862505e+00,\n",
       "        2.64196730e+00, -6.07369006e-01,  4.19965051e-02,  1.34887826e+00,\n",
       "       -1.47374034e+00, -6.86406136e-01, -1.54913187e+00,  6.51244879e-01,\n",
       "        9.51739728e-01, -8.99350464e-01, -5.55363536e-01,  7.64773369e-01,\n",
       "       -1.45756006e+00,  1.05330393e-01, -6.00401402e-01, -1.61145997e+00,\n",
       "       -2.21926510e-01,  2.18884587e-01, -2.24394694e-01, -4.89028305e-01,\n",
       "       -6.95634544e-01, -2.78706968e-01, -7.17166841e-01,  1.07864058e+00,\n",
       "       -1.05976868e+00,  2.14769736e-01,  1.69001549e-01, -2.77644694e-01,\n",
       "       -7.94258952e-01, -9.09326315e-01, -1.40532628e-01, -3.73142123e-01,\n",
       "       -3.36456180e-01, -1.49958992e+00, -6.34297132e-01,  4.62123126e-01,\n",
       "        5.51685631e-01,  4.44520675e-02, -1.40592384e+00, -5.34209073e-01,\n",
       "       -8.88950467e-01, -5.56083024e-01,  2.97582224e-02, -9.47314948e-02,\n",
       "       -5.56318820e-01, -5.79497755e-01, -7.42740810e-01,  1.09888399e+00,\n",
       "       -9.17583227e-01,  1.66189063e+00,  6.48891270e-01, -2.67599076e-01,\n",
       "        1.19838369e+00, -4.46030885e-01,  2.41352767e-01, -3.49160939e-01,\n",
       "        1.08917630e+00,  3.28869149e-02, -1.29514062e+00,  4.73311961e-01,\n",
       "        1.60724502e-02, -3.98873270e-01, -1.36867690e+00,  4.32556123e-02,\n",
       "       -1.26401532e+00, -4.73348498e-01,  1.21199101e-01, -1.71925724e-01,\n",
       "       -3.57664526e-01,  7.71590233e-01, -1.15619481e+00, -3.52453217e-02,\n",
       "       -1.16106892e+00,  2.38536075e-02, -3.87909979e-01, -1.32785290e-01,\n",
       "       -1.90306902e-01,  1.12179947e+00, -2.64826238e-01, -5.15057705e-02,\n",
       "       -1.11486101e+00, -7.11345255e-01,  5.17823935e-01,  7.96844125e-01,\n",
       "        1.21355712e+00, -4.23549086e-01,  1.68938056e-01,  2.12871003e+00,\n",
       "        8.88280749e-01,  1.32642043e+00, -7.18471766e-01,  4.38732415e-01,\n",
       "       -1.95266044e+00, -1.91343948e-01, -1.03457224e+00, -1.04610693e+00,\n",
       "       -9.21909511e-02, -4.04812008e-01, -1.77389991e+00,  9.52335447e-02,\n",
       "        8.08655500e-01, -6.39232397e-01,  6.04429245e-01, -2.32306778e-01,\n",
       "        3.12556595e-01, -1.14301848e+00,  7.97760665e-01, -3.13844830e-02,\n",
       "       -7.17900395e-01, -7.53256619e-01, -2.96807140e-01,  8.85570049e-01,\n",
       "       -1.53485537e+00,  4.15926486e-01, -5.89807294e-02, -8.95554662e-01,\n",
       "       -5.37970662e-01,  1.11020219e+00, -1.65292835e+00, -1.89512700e-01,\n",
       "        1.78734839e+00, -5.49211204e-01, -7.17756152e-01, -1.98216170e-01,\n",
       "        3.13501477e-01,  1.19143143e-01,  2.68219948e-01, -5.62043786e-01,\n",
       "        6.05876386e-01,  1.19131041e+00,  8.89372826e-03, -2.71340680e+00,\n",
       "       -8.21692646e-01,  1.06359458e+00, -1.40112543e+00, -9.31921124e-01,\n",
       "        7.15880036e-01,  1.16986620e+00,  2.96106219e-01, -5.45502961e-01,\n",
       "       -6.97222531e-01, -7.29710579e-01,  8.58685255e-01,  4.45762634e-01,\n",
       "        5.17847002e-01, -7.41141856e-01,  6.79200172e-01, -1.09392059e+00,\n",
       "        2.74964333e-01, -3.12559158e-01, -4.01666202e-02,  3.06560308e-01,\n",
       "        2.77342170e-01, -9.60250556e-01, -4.51966703e-01,  1.02157950e-01,\n",
       "       -2.67399579e-01,  1.18883753e+00,  6.03613138e-01, -2.78854579e-01,\n",
       "       -2.77631748e-02, -4.06345487e-01, -1.09220862e+00, -1.67666554e-01,\n",
       "        5.65554857e-01, -2.12487280e-01,  1.58247188e-01,  4.94465709e-01,\n",
       "       -1.15878487e+00, -5.57681918e-01,  6.86199725e-01, -4.21882361e-01,\n",
       "        2.19965905e-01, -5.44274449e-01,  4.16212916e-01, -6.15031980e-02,\n",
       "        6.06230080e-01,  4.78373379e-01, -7.69234657e-01,  1.34485438e-01,\n",
       "       -6.30315900e-01, -1.01888609e+00, -1.41564026e-01, -3.55121642e-02,\n",
       "        4.31995451e-01, -6.56176805e-01, -6.00961685e-01, -1.45612931e+00,\n",
       "       -8.43234826e-03,  3.57160032e-01, -7.88824737e-01, -5.45987487e-01,\n",
       "       -3.25095296e-01, -3.80525142e-01, -1.00102639e+00,  4.87141728e-01,\n",
       "       -2.68627286e-01,  7.13547289e-01, -1.54115832e+00,  8.29088986e-02,\n",
       "        2.21510381e-01,  2.99716800e-01,  8.20687950e-01,  4.17273305e-02,\n",
       "        5.42975307e-01, -1.78127419e-02, -1.00505829e+00, -3.79324079e-01,\n",
       "        1.42800140e+00,  1.82024822e-01, -5.81331789e-01,  1.01910973e+00,\n",
       "       -1.61984348e+00, -8.76370966e-01,  8.72454345e-01,  1.42528117e+00,\n",
       "        1.41692090e+00,  6.54238880e-01,  5.99848688e-01,  1.62555945e+00,\n",
       "        8.87112200e-01, -1.09603032e-01,  4.20430630e-01, -1.79571211e+00,\n",
       "       -1.79558098e+00,  5.31078219e-01,  7.33312666e-02, -7.86475837e-01,\n",
       "       -3.62629890e-01, -4.60841775e-01,  7.78243065e-01,  9.49267387e-01,\n",
       "        1.90414476e+00,  5.93303442e-01, -6.22857988e-01, -1.25887191e+00,\n",
       "       -5.61044693e-01,  7.19873190e-01,  8.75705302e-01,  6.96572885e-02,\n",
       "        9.20505941e-01, -1.96459174e+00, -1.13744342e+00, -6.36735618e-01,\n",
       "        2.74457604e-01, -2.72928864e-01, -6.14884913e-01, -8.66057500e-02,\n",
       "       -1.17540091e-01, -3.54570180e-01, -5.67887872e-02,  1.77978516e-01,\n",
       "       -7.75834620e-01, -3.31604123e-01, -2.38276795e-02, -4.70997214e-01,\n",
       "        2.01238453e-01, -2.05319142e+00,  7.73001671e-01,  7.75652170e-01,\n",
       "       -4.30855900e-01, -1.11583698e+00,  6.36719167e-01,  4.80784535e-01,\n",
       "       -3.58803809e-01, -1.96830541e-01,  1.30540776e+00, -1.32559037e+00,\n",
       "       -4.50470984e-01, -1.52715731e+00, -2.89280683e-01, -2.32731581e-01,\n",
       "       -6.70159101e-01,  3.88223499e-01,  5.52043438e-01,  5.39359748e-01,\n",
       "        1.09958076e+00, -1.02860250e-01, -2.47238055e-01,  3.73682261e-01,\n",
       "       -3.42274040e-01, -3.22965264e-01,  3.45494151e-02, -1.53727698e+00,\n",
       "        6.62444711e-01,  1.48241535e-01,  1.80138797e-01,  5.02365530e-01,\n",
       "        6.59455359e-01,  3.12089115e-01,  5.81581235e-01, -4.51229932e-03,\n",
       "       -5.09968221e-01,  2.46449575e-01,  2.52979189e-01, -5.31221092e-01,\n",
       "       -1.29930866e+00,  1.19975597e-01, -5.49556434e-01, -3.89358908e-01,\n",
       "       -4.95799214e-01,  2.96901047e-01, -9.69133914e-01, -6.74408395e-03,\n",
       "        1.83309126e+00, -1.07533836e+00,  1.61795154e-01,  5.33690691e-01,\n",
       "        8.79939258e-01, -7.26643324e-01, -1.22604835e+00,  3.62748295e-01,\n",
       "       -6.32256329e-01, -5.81776261e-01,  7.85436988e-01,  8.42196345e-02,\n",
       "        5.69471896e-01,  2.78661281e-01, -6.08237147e-01,  2.51462638e-01,\n",
       "       -1.12966858e-02,  7.02224016e-01,  8.97367001e-02,  7.05428720e-01,\n",
       "       -2.44958401e-01, -5.26415646e-01, -8.92012477e-01, -1.67721987e+00,\n",
       "        1.06479311e+00,  7.88243532e-01, -4.21213418e-01, -8.06147233e-02,\n",
       "       -9.79744375e-01,  3.43673080e-02,  1.41270566e+00, -4.26298589e-01,\n",
       "        9.23571885e-01,  9.25247312e-01, -1.81019258e+00, -6.04941845e-01,\n",
       "        1.93599805e-01, -8.39516103e-01, -6.69559896e-01, -3.51797700e-01,\n",
       "        6.26586258e-01, -1.13415623e+00,  1.66462436e-02, -8.98197711e-01,\n",
       "       -6.31472111e-01,  4.57711101e-01,  5.73724926e-01,  1.20762241e+00,\n",
       "        5.96499503e-01, -7.17172801e-01,  4.11522686e-01, -8.18082750e-01,\n",
       "        4.55112606e-01,  7.62409270e-02, -6.10159039e-01,  8.52123976e-01,\n",
       "       -1.08356937e-03,  1.73574674e+00, -9.35386777e-01,  2.33013049e-01,\n",
       "        1.06306113e-01,  3.48356783e-01,  2.20868990e-01,  7.26362109e-01,\n",
       "        1.08761087e-01,  2.38404140e-01,  6.36809111e-01,  1.25716472e+00,\n",
       "       -6.90576136e-01, -4.25105661e-01, -6.28563166e-01,  1.02239370e+00,\n",
       "       -1.66063279e-01, -1.38027892e-01,  7.20026851e-01,  9.34351921e-01,\n",
       "        7.34171867e-02,  2.63888299e-01, -3.02432209e-01,  6.20947331e-02,\n",
       "        7.16749281e-02,  2.24041082e-02,  6.94552004e-01, -8.24735403e-01,\n",
       "       -1.19684696e+00,  3.50081444e-01,  1.18389857e+00, -6.47847831e-01,\n",
       "        3.53462487e-01,  7.42813349e-01, -5.57450712e-01, -1.27896816e-01,\n",
       "       -4.54639077e-01,  1.13408732e+00, -2.19571695e-01, -1.17137337e+00,\n",
       "        2.68947817e-02, -6.33429289e-01,  1.29210770e+00,  5.00505745e-01,\n",
       "       -4.83898520e-01, -1.64197206e+00, -4.79374141e-01, -3.94948959e-01,\n",
       "       -1.37709171e-01, -9.67227399e-01,  3.41797948e-01, -6.23006701e-01,\n",
       "        6.95398748e-02,  5.08263886e-01, -1.60968959e-01,  1.73396134e+00,\n",
       "       -1.45419109e+00,  5.41506112e-01,  2.97026306e-01,  5.45788229e-01,\n",
       "        1.72181189e-01, -8.87572587e-01,  1.94362074e-01,  1.34044319e-01,\n",
       "       -3.30550730e-01, -2.24515319e+00,  9.09973443e-01,  3.29025000e-01,\n",
       "        9.60504532e-01, -3.22380483e-01,  6.50220811e-01,  5.30969739e-01,\n",
       "       -3.97238106e-01, -1.03735328e+00, -1.01388681e+00,  1.02674913e+00,\n",
       "        9.43964839e-01, -1.15856338e+00, -5.03296852e-01, -5.50070167e-01,\n",
       "       -4.55542713e-01,  3.27143610e-01, -2.68136263e-01,  6.51587486e-01,\n",
       "        2.29579508e-01, -1.17490935e+00, -2.38224953e-01,  1.01531994e+00,\n",
       "       -1.61352706e+00,  3.72540951e-01,  4.59910601e-01, -1.45670986e+00,\n",
       "       -2.70302147e-01, -2.42953539e-01, -9.32887614e-01,  1.27823317e+00,\n",
       "       -8.50375175e-01, -6.07937813e-01, -2.97672838e-01, -1.05593634e+00,\n",
       "       -9.65015650e-01, -2.26403713e-01,  1.02773368e+00, -6.60879910e-01,\n",
       "        2.55380988e-01,  2.83101141e-01,  1.21524382e+00, -1.04375982e+00,\n",
       "       -1.93682350e-02,  5.47598362e-01, -3.14950436e-01, -1.14851630e+00,\n",
       "       -2.44945025e+00,  1.99960335e-03,  5.36158420e-02, -2.91560024e-01,\n",
       "        9.64528501e-01,  3.26454341e-02,  1.45917788e-01, -7.42294133e-01,\n",
       "       -5.13319850e-01,  1.02643704e+00, -7.98243061e-02, -3.46782625e-01,\n",
       "       -2.23659590e-01,  6.82820678e-01, -1.26335770e-01, -1.31252337e+00,\n",
       "       -9.95320976e-01, -3.75432760e-01, -9.03171957e-01,  8.55878115e-01],\n",
       "      dtype=float32)"
      ]
     },
     "execution_count": 5,
     "metadata": {},
     "output_type": "execute_result"
    }
   ],
   "source": [
    "se(\"'RAGCAR'는 'Retrieval-Augmented Generative Companion for Advanced Research'의 준말입니다.\")"
   ]
  },
  {
   "cell_type": "code",
   "execution_count": 6,
   "metadata": {},
   "outputs": [
    {
     "name": "stdout",
     "output_type": "stream",
     "text": [
      "tensor([-0.6588,  0.4640,  0.0390, -0.7074, -1.8452], device='cuda:0')\n"
     ]
    }
   ],
   "source": [
    "vector = se(\n",
    "    \"'RAGCAR'는 'Retrieval-Augmented Generative Companion for Advanced Research'의 준말입니다.\",\n",
    "    convert_to_tensor=True\n",
    ")\n",
    "\n",
    "print(vector[:5])"
   ]
  },
  {
   "cell_type": "markdown",
   "metadata": {},
   "source": [
    "## Local"
   ]
  },
  {
   "cell_type": "code",
   "execution_count": 7,
   "metadata": {},
   "outputs": [],
   "source": [
    "se = Ragcar(tool=\"sentence_embedding\", src=\"model_name_or_path\", model=\"./models/training_klue-stsbenchmark_continue-training_klue-roberta-large_2022-10-31_09-49-34\")"
   ]
  },
  {
   "cell_type": "code",
   "execution_count": 8,
   "metadata": {},
   "outputs": [
    {
     "data": {
      "text/plain": [
       "array([-0.00369105,  0.48646706, -0.18497321,  0.4955616 , -0.01973542],\n",
       "      dtype=float32)"
      ]
     },
     "execution_count": 8,
     "metadata": {},
     "output_type": "execute_result"
    }
   ],
   "source": [
    "se(\"'RAGCAR'는 'Retrieval-Augmented Generative Companion for Advanced Research'의 준말입니다.\")[:5]"
   ]
  },
  {
   "cell_type": "markdown",
   "metadata": {},
   "source": [
    "## 구글 드라이브\n",
    "모델 폴더 자체를 `.zip` 형식으로 압축하고 구글 드라이브에 업로드 합니다. 모델은 `~/.cache/gdown/models` 경로에 저장됩니다.\n",
    "* model_n: 모델 폴더명\n",
    "* model_url: 구글 드라이브 공유 링크 내 ID (https://drive.google.com/file/d/{model_id}/view?usp=drive_link)"
   ]
  },
  {
   "cell_type": "code",
   "execution_count": 9,
   "metadata": {},
   "outputs": [
    {
     "data": {
      "text/plain": [
       "'Available fields for googledrive are ([field]: model_n, [type]: str), ([field]: model_url, [type]: str)'"
      ]
     },
     "execution_count": 9,
     "metadata": {},
     "output_type": "execute_result"
    }
   ],
   "source": [
    "Ragcar.available_model_fields(\"googledrive\")"
   ]
  },
  {
   "cell_type": "code",
   "execution_count": 10,
   "metadata": {},
   "outputs": [
    {
     "name": "stderr",
     "output_type": "stream",
     "text": [
      "Downloading...\n",
      "From (original): https://drive.google.com/uc?id=1F2P-GA9P9PYuUbK_tYotn68P8MbR0EBW\n",
      "From (redirected): https://drive.usercontent.google.com/download?id=1F2P-GA9P9PYuUbK_tYotn68P8MbR0EBW&confirm=t&uuid=8fcda006-bfbe-4e1d-bc2f-fc55bc405271\n",
      "To: /home/pcn/RnS/test/wslee/solution/toolva/RAGCAR/examples/training_klue-stsbenchmark_continue-training_klue-roberta-large_2022-10-31_09-49-34.zip\n",
      "100%|██████████| 1.24G/1.24G [00:25<00:00, 48.7MB/s]\n"
     ]
    }
   ],
   "source": [
    "se = Ragcar(\n",
    "    tool=\"sentence_embedding\", \n",
    "    src=\"google\", \n",
    "    model={\n",
    "        \"model_n\": \"training_klue-stsbenchmark_continue-training_klue-roberta-large_2022-10-31_09-49-34\",\n",
    "        \"model_url\": \"https://drive.google.com/file/d/1F2P-GA9P9PYuUbK_tYotn68P8MbR0EBW/view?usp=drive_link\"\n",
    "    }\n",
    ")"
   ]
  },
  {
   "cell_type": "code",
   "execution_count": 11,
   "metadata": {},
   "outputs": [
    {
     "data": {
      "text/plain": [
       "array([-0.00369105,  0.48646706, -0.18497321,  0.4955616 , -0.01973542],\n",
       "      dtype=float32)"
      ]
     },
     "execution_count": 11,
     "metadata": {},
     "output_type": "execute_result"
    }
   ],
   "source": [
    "se(\"'RAGCAR'는 'Retrieval-Augmented Generative Companion for Advanced Research'의 준말입니다.\")[:5]"
   ]
  },
  {
   "cell_type": "markdown",
   "metadata": {},
   "source": [
    "## Generative AI"
   ]
  },
  {
   "cell_type": "markdown",
   "metadata": {},
   "source": [
    "### [OpenAI 모델](https://platform.openai.com/docs/guides/embeddings/embedding-models)\n",
    "`.env` 파일 또는 환경 변수로 `OPENAI_API_KEY`를 설정하거나 다음과 같이 직접 변수를 입력합니다.\n",
    "* model_n: 모델명\n",
    "* api_key: OPENAI_API_KEY"
   ]
  },
  {
   "cell_type": "code",
   "execution_count": 12,
   "metadata": {},
   "outputs": [],
   "source": [
    "se = Ragcar(tool=\"sentence_embedding\", src=\"openai\")"
   ]
  },
  {
   "cell_type": "code",
   "execution_count": 13,
   "metadata": {},
   "outputs": [
    {
     "data": {
      "text/plain": [
       "tensor([-0.0255, -0.0245, -0.0317, -0.0036, -0.0259])"
      ]
     },
     "execution_count": 13,
     "metadata": {},
     "output_type": "execute_result"
    }
   ],
   "source": [
    "se(\n",
    "    \"'RAGCAR'는 'Retrieval-Augmented Generative Companion for Advanced Research'의 준말입니다.\",\n",
    "    convert_to_tensor=True\n",
    ")[:5]"
   ]
  },
  {
   "cell_type": "code",
   "execution_count": 14,
   "metadata": {},
   "outputs": [
    {
     "data": {
      "text/plain": [
       "'Available fields for openai are ([field]: model_n, [type]: str), ([field]: api_key, [type]: str)'"
      ]
     },
     "execution_count": 14,
     "metadata": {},
     "output_type": "execute_result"
    }
   ],
   "source": [
    "Ragcar.available_model_fields(\"openai\")"
   ]
  },
  {
   "cell_type": "code",
   "execution_count": 15,
   "metadata": {},
   "outputs": [
    {
     "data": {
      "text/plain": [
       "True"
      ]
     },
     "execution_count": 15,
     "metadata": {},
     "output_type": "execute_result"
    }
   ],
   "source": [
    "import os\n",
    "from dotenv import load_dotenv\n",
    "\n",
    "load_dotenv()"
   ]
  },
  {
   "cell_type": "code",
   "execution_count": 16,
   "metadata": {},
   "outputs": [],
   "source": [
    "se = Ragcar(\n",
    "    tool=\"sentence_embedding\", \n",
    "    src=\"openai\",\n",
    "    model={\n",
    "        \"model_n\": \"text-embedding-3-large\",\n",
    "        \"api_key\": os.getenv('OPENAI_API_KEY')\n",
    "    }\n",
    ")"
   ]
  },
  {
   "cell_type": "code",
   "execution_count": 17,
   "metadata": {},
   "outputs": [
    {
     "data": {
      "text/plain": [
       "[-0.02581464871764183,\n",
       " -0.024363741278648376,\n",
       " -0.032034870237112045,\n",
       " -0.0037745123263448477,\n",
       " -0.025987032800912857]"
      ]
     },
     "execution_count": 17,
     "metadata": {},
     "output_type": "execute_result"
    }
   ],
   "source": [
    "se(\"'RAGCAR'는 'Retrieval-Augmented Generative Companion for Advanced Research'의 준말입니다.\")[:5]"
   ]
  },
  {
   "cell_type": "markdown",
   "metadata": {},
   "source": [
    "### HyperCLOVA 모델\n",
    "`.env` 파일 또는 환경 변수로 `X-NCP-APIGW-API-KEY`, `X-NCP-CLOVASTUDIO-API-KEY`를 설정하거나 다음과 같이 직접 변수를 입력합니다. \n",
    "HyperCLOVA API 사용방법은 [여기서](https://guide.ncloud-docs.com/docs/clovastudio-explorer03) 참고해주세요.\n",
    "* model_n: API URL\n",
    "* api_key: X-NCP-APIGW-API-KEY\n",
    "* app_key: X-NCP-CLOVASTUDIO-API-KEY"
   ]
  },
  {
   "cell_type": "code",
   "execution_count": 18,
   "metadata": {},
   "outputs": [],
   "source": [
    "se = Ragcar(\n",
    "    tool=\"sentence_embedding\", \n",
    "    src=\"clova\",\n",
    "    model=\"https://clovastudio.apigw.ntruss.com/testapp/v1/api-tools/embedding/clir-emb-dolphin/{}\".format(os.getenv('EMBEDDING_APP_ID'))\n",
    ")"
   ]
  },
  {
   "cell_type": "code",
   "execution_count": 19,
   "metadata": {},
   "outputs": [
    {
     "data": {
      "text/plain": [
       "[-0.58226234, -0.32943937, -0.7861445, 1.7102079, -1.2676771]"
      ]
     },
     "execution_count": 19,
     "metadata": {},
     "output_type": "execute_result"
    }
   ],
   "source": [
    "se(\"'RAGCAR'는 'Retrieval-Augmented Generative Companion for Advanced Research'의 준말입니다.\")[:5]"
   ]
  },
  {
   "cell_type": "code",
   "execution_count": 20,
   "metadata": {},
   "outputs": [
    {
     "data": {
      "text/plain": [
       "'Available fields for clova are ([field]: model_n, [type]: str), ([field]: api_key, [type]: str), ([field]: app_key, [type]: str)'"
      ]
     },
     "execution_count": 20,
     "metadata": {},
     "output_type": "execute_result"
    }
   ],
   "source": [
    "Ragcar.available_model_fields('clova')"
   ]
  },
  {
   "cell_type": "code",
   "execution_count": 21,
   "metadata": {},
   "outputs": [],
   "source": [
    "se = Ragcar(\n",
    "    tool=\"sentence_embedding\", \n",
    "    src=\"clova\",\n",
    "    model={\n",
    "        \"model_n\": \"https://clovastudio.apigw.ntruss.com/testapp/v1/api-tools/embedding/clir-emb-dolphin/{}\".format(os.getenv('EMBEDDING_APP_ID')),\n",
    "        \"api_key\": os.getenv(\"X-NCP-APIGW-API-KEY\"),\n",
    "        \"app_key\": os.getenv(\"X-NCP-CLOVASTUDIO-API-KEY\")\n",
    "    }\n",
    ")"
   ]
  },
  {
   "cell_type": "code",
   "execution_count": 22,
   "metadata": {},
   "outputs": [
    {
     "data": {
      "text/plain": [
       "[-0.58226234, -0.32943937, -0.7861445, 1.7102079, -1.2676771]"
      ]
     },
     "execution_count": 22,
     "metadata": {},
     "output_type": "execute_result"
    }
   ],
   "source": [
    "se(\"'RAGCAR'는 'Retrieval-Augmented Generative Companion for Advanced Research'의 준말입니다.\")[:5]"
   ]
  },
  {
   "cell_type": "markdown",
   "metadata": {},
   "source": [
    "### Sync VS Async"
   ]
  },
  {
   "cell_type": "code",
   "execution_count": 23,
   "metadata": {},
   "outputs": [],
   "source": [
    "news_titles = [\n",
    "    \"프로농구 2023-2024시즌, 10월 21일 인삼공사 vs SK 경기로 개막\", \n",
    "    \"LG 최원태, 이적 후 첫 경기서 완벽투…우승 향한 '화룡점정'(종합)\",\n",
    "    \"맨시티 홀란, AT 마드리드 친선경기 선발…그리에즈만과 맞대결\",\n",
    "    \"이재성, 프리시즌 경기서 골맛…마인츠, 장크트갈렌에 4-1 승\",\n",
    "    \"7월 건설경기실사지수 89.8…2년 7개월 만에 최고\"\n",
    "]"
   ]
  },
  {
   "cell_type": "code",
   "execution_count": 24,
   "metadata": {},
   "outputs": [
    {
     "name": "stdout",
     "output_type": "stream",
     "text": [
      "\n",
      "-------------------------\n",
      "\n",
      "Sync\n",
      "Total time: 2.526336669921875\n",
      "\n",
      "-------------------------\n",
      "\n",
      "Async\n",
      "Total time: 1.590160846710205\n"
     ]
    }
   ],
   "source": [
    "import time\n",
    "\n",
    "\n",
    "# Output of Sync\n",
    "print(\"\\n-------------------------\\n\")\n",
    "print(\"Sync\")\n",
    "\n",
    "embeder = Ragcar(\n",
    "    tool=\"sentence_embedding\", \n",
    "    src=\"openai\",\n",
    "    use_async=False\n",
    ")\n",
    "\n",
    "start = time.time()\n",
    "result = embeder(news_titles)\n",
    "end = time.time() - start\n",
    "print(f\"Total time: {end}\")\n",
    "\n",
    "\n",
    "embeder = Ragcar(\n",
    "    tool=\"sentence_embedding\", \n",
    "    src=\"openai\",\n",
    "    use_async=True\n",
    ")\n",
    "\n",
    "# Output of Async\n",
    "print(\"\\n-------------------------\\n\")\n",
    "print(\"Async\")\n",
    "start = time.time()\n",
    "result = await embeder(news_titles)\n",
    "end = time.time() - start\n",
    "print(f\"Total time: {end}\")"
   ]
  },
  {
   "cell_type": "markdown",
   "metadata": {},
   "source": [
    "## Embedder 성능 비교"
   ]
  },
  {
   "cell_type": "markdown",
   "metadata": {},
   "source": [
    "### Embedding 속도 비교"
   ]
  },
  {
   "cell_type": "code",
   "execution_count": 25,
   "metadata": {},
   "outputs": [],
   "source": [
    "sbert_base = Ragcar(\n",
    "    tool=\"sentence_embedding\", \n",
    "    src=\"model_name_or_path\", \n",
    "    model=\"leewaay/kpf-bert-base-klueNLI-klueSTS-MSL512\",\n",
    ")\n",
    "\n",
    "sbert_aug = Ragcar(\n",
    "    tool=\"sentence_embedding\", \n",
    "    src=\"model_name_or_path\",\n",
    "    model={\n",
    "        \"model_n\": \"leewaay/KPF-SBERT-klueNLI-klueSTS-augYNA-v1.0\",\n",
    "        \"token\": os.getenv(\"HUGGINGFACE_ACCESS_TOKENS\")\n",
    "    }\n",
    ")\n",
    "\n",
    "openai_ada = Ragcar(\n",
    "    tool=\"sentence_embedding\", \n",
    "    src=\"openai\",\n",
    "    model=\"text-embedding-ada-002\"\n",
    ")  # Rate Limit: 3000 / min\n",
    "\n",
    "openai_small = Ragcar(\n",
    "    tool=\"sentence_embedding\", \n",
    "    src=\"openai\",\n",
    "    model=\"text-embedding-3-small\"\n",
    ")\n",
    "\n",
    "openai_large = Ragcar(\n",
    "    tool=\"sentence_embedding\", \n",
    "    src=\"openai\",\n",
    "    model=\"text-embedding-3-large\"\n",
    ")\n",
    "\n",
    "clova_sent = Ragcar(\n",
    "    tool=\"sentence_embedding\", \n",
    "    src=\"clova\",\n",
    "    model=\"https://clovastudio.apigw.ntruss.com/testapp/v1/api-tools/embedding/clir-sts-dolphin/{}\".format(os.getenv('EMBEDDING_APP_ID'))\n",
    ")\n",
    "\n",
    "clova_doc = Ragcar(\n",
    "    tool=\"sentence_embedding\", \n",
    "    src=\"clova\",\n",
    "    model=\"https://clovastudio.apigw.ntruss.com/testapp/v1/api-tools/embedding/clir-emb-dolphin/{}\".format(os.getenv('EMBEDDING_APP_ID'))\n",
    ")\n",
    "\n",
    "embedders = {\n",
    "    \"SBERT-KPF\": sbert_base, \n",
    "    \"SBERT-KPF-Aug\": sbert_aug, \n",
    "    \"OpenAI-ada-002\": openai_ada,\n",
    "    \"OpenAI-3-small\": openai_small,\n",
    "    \"OpenAI-3-large\": openai_large,\n",
    "    \"HyperCLOVA X-Doc\": clova_doc,\n",
    "    \"HyperCLOVA X-Sentence\": clova_sent\n",
    "}"
   ]
  },
  {
   "cell_type": "code",
   "execution_count": 26,
   "metadata": {},
   "outputs": [],
   "source": [
    "from tqdm.notebook import tqdm\n",
    "import time\n",
    "import matplotlib.pyplot as plt\n",
    "\n",
    "def generate_embeddings(sents, embedders):\n",
    "    embedding_times = {}\n",
    "    for name, embedder in tqdm(embedders.items(), desc=\"Embedding Models\"):\n",
    "        total_time = 0\n",
    "        for sent in tqdm(sents, desc=f\"Processing {name}\"):\n",
    "            start_time = time.time()\n",
    "            try:\n",
    "                embeddings = embedder([sent], batch_size=1)\n",
    "            except Exception as e:\n",
    "                print(f\"Error for {name}: {e}\")\n",
    "                continue\n",
    "            end_time = time.time()\n",
    "            total_time += end_time - start_time\n",
    "        average_time = total_time / len(sents) if sents else 0\n",
    "        embedding_times[name] = average_time\n",
    "    \n",
    "    return embedding_times\n",
    "\n",
    "def plot_embedding_times(embedding_times):\n",
    "    plt.bar(embedding_times.keys(), embedding_times.values())\n",
    "    plt.ylabel(\"Average Time (seconds)\")\n",
    "    plt.title(\"Average Embedding Time Comparison\")\n",
    "    plt.xticks(rotation=45)\n",
    "    plt.show()"
   ]
  },
  {
   "cell_type": "code",
   "execution_count": 27,
   "metadata": {},
   "outputs": [
    {
     "data": {
      "application/vnd.jupyter.widget-view+json": {
       "model_id": "e3f2f29fdc36492f9043f01bd21855ae",
       "version_major": 2,
       "version_minor": 0
      },
      "text/plain": [
       "Embedding Models:   0%|          | 0/7 [00:00<?, ?it/s]"
      ]
     },
     "metadata": {},
     "output_type": "display_data"
    },
    {
     "data": {
      "application/vnd.jupyter.widget-view+json": {
       "model_id": "471c2d9b42d049b289e70e94f0799a38",
       "version_major": 2,
       "version_minor": 0
      },
      "text/plain": [
       "Processing SBERT-KPF:   0%|          | 0/20 [00:00<?, ?it/s]"
      ]
     },
     "metadata": {},
     "output_type": "display_data"
    },
    {
     "data": {
      "application/vnd.jupyter.widget-view+json": {
       "model_id": "d6d51eca075646d8a306a01460bf2716",
       "version_major": 2,
       "version_minor": 0
      },
      "text/plain": [
       "Processing SBERT-KPF-Aug:   0%|          | 0/20 [00:00<?, ?it/s]"
      ]
     },
     "metadata": {},
     "output_type": "display_data"
    },
    {
     "data": {
      "application/vnd.jupyter.widget-view+json": {
       "model_id": "5dde8325410643d0879fbaf87783e7d2",
       "version_major": 2,
       "version_minor": 0
      },
      "text/plain": [
       "Processing OpenAI-ada-002:   0%|          | 0/20 [00:00<?, ?it/s]"
      ]
     },
     "metadata": {},
     "output_type": "display_data"
    },
    {
     "data": {
      "application/vnd.jupyter.widget-view+json": {
       "model_id": "86cb1486596a43a08791b4a916d5cca5",
       "version_major": 2,
       "version_minor": 0
      },
      "text/plain": [
       "Processing OpenAI-3-small:   0%|          | 0/20 [00:00<?, ?it/s]"
      ]
     },
     "metadata": {},
     "output_type": "display_data"
    },
    {
     "data": {
      "application/vnd.jupyter.widget-view+json": {
       "model_id": "923a45d6268d406a82b01ee8d61c069d",
       "version_major": 2,
       "version_minor": 0
      },
      "text/plain": [
       "Processing OpenAI-3-large:   0%|          | 0/20 [00:00<?, ?it/s]"
      ]
     },
     "metadata": {},
     "output_type": "display_data"
    },
    {
     "data": {
      "application/vnd.jupyter.widget-view+json": {
       "model_id": "c7e31dd7d3e84d889ec4bfb699fb4554",
       "version_major": 2,
       "version_minor": 0
      },
      "text/plain": [
       "Processing HyperCLOVA X-Doc:   0%|          | 0/20 [00:00<?, ?it/s]"
      ]
     },
     "metadata": {},
     "output_type": "display_data"
    },
    {
     "data": {
      "application/vnd.jupyter.widget-view+json": {
       "model_id": "ba5ca69ca4f34a5588e330ed33e4ab14",
       "version_major": 2,
       "version_minor": 0
      },
      "text/plain": [
       "Processing HyperCLOVA X-Sentence:   0%|          | 0/20 [00:00<?, ?it/s]"
      ]
     },
     "metadata": {},
     "output_type": "display_data"
    },
    {
     "data": {
      "image/png": "[encoded data removed]",
      "text/plain": [
       "<Figure size 640x480 with 1 Axes>"
      ]
     },
     "metadata": {},
     "output_type": "display_data"
    }
   ],
   "source": [
    "# Generate embeddings and measure embedding times\n",
    "embedding_times = generate_embeddings(news_titles*4, embedders)\n",
    "\n",
    "# Plot the embedding times\n",
    "plot_embedding_times(embedding_times)"
   ]
  },
  {
   "cell_type": "markdown",
   "metadata": {},
   "source": [
    "### STS 성능 비교"
   ]
  },
  {
   "cell_type": "code",
   "execution_count": 28,
   "metadata": {},
   "outputs": [],
   "source": [
    "sbert_base = Ragcar(\n",
    "    tool=\"sentence_embedding\", \n",
    "    src=\"model_name_or_path\", \n",
    "    model=\"leewaay/kpf-bert-base-klueNLI-klueSTS-MSL512\",\n",
    ")\n",
    "\n",
    "sbert_aug = Ragcar(\n",
    "    tool=\"sentence_embedding\", \n",
    "    src=\"model_name_or_path\",\n",
    "    model={\n",
    "        \"model_n\": \"leewaay/KPF-SBERT-klueNLI-klueSTS-augYNA-v1.0\",\n",
    "        \"token\": os.getenv(\"HUGGINGFACE_ACCESS_TOKENS\")\n",
    "    }\n",
    ")\n",
    "\n",
    "openai_ada = Ragcar(\n",
    "    tool=\"sentence_embedding\", \n",
    "    src=\"openai\",\n",
    "    model=\"text-embedding-ada-002\",\n",
    "    use_async=True\n",
    ")  # Rate Limit: 3000 / min\n",
    "\n",
    "openai_small = Ragcar(\n",
    "    tool=\"sentence_embedding\", \n",
    "    src=\"openai\",\n",
    "    model=\"text-embedding-3-small\",\n",
    "    use_async=True\n",
    ")\n",
    "\n",
    "openai_large = Ragcar(\n",
    "    tool=\"sentence_embedding\", \n",
    "    src=\"openai\",\n",
    "    model=\"text-embedding-3-large\",\n",
    "    use_async=True\n",
    ")\n",
    "\n",
    "clova_sent = Ragcar(\n",
    "    tool=\"sentence_embedding\", \n",
    "    src=\"clova\",\n",
    "    model=\"https://clovastudio.apigw.ntruss.com/testapp/v1/api-tools/embedding/clir-sts-dolphin/{}\".format(os.getenv('EMBEDDING_APP_ID')),\n",
    "    use_async=True\n",
    ")\n",
    "\n",
    "clova_doc = Ragcar(\n",
    "    tool=\"sentence_embedding\", \n",
    "    src=\"clova\",\n",
    "    model=\"https://clovastudio.apigw.ntruss.com/testapp/v1/api-tools/embedding/clir-emb-dolphin/{}\".format(os.getenv('EMBEDDING_APP_ID')),\n",
    "    use_async=True\n",
    ")\n",
    "\n",
    "embedders = {\n",
    "    \"SBERT-KPF\": sbert_base, \n",
    "    \"SBERT-KPF-Aug\": sbert_aug, \n",
    "    \"OpenAI-ada-002\": openai_ada,\n",
    "    \"OpenAI-3-small\": openai_small,\n",
    "    \"OpenAI-3-large\": openai_large,\n",
    "    \"HyperCLOVA X-Doc\": clova_doc,\n",
    "    \"HyperCLOVA X-Sentence\": clova_sent\n",
    "}"
   ]
  },
  {
   "cell_type": "markdown",
   "metadata": {},
   "source": [
    "#### 01. Test Data\n",
    "* 한국관광공사_무장애 여행 정보_GW(https://www.data.go.kr/data/15101897/openapi.do)"
   ]
  },
  {
   "cell_type": "code",
   "execution_count": 29,
   "metadata": {},
   "outputs": [
    {
     "data": {
      "text/html": [
       "<div>\n",
       "<style scoped>\n",
       "    .dataframe tbody tr th:only-of-type {\n",
       "        vertical-align: middle;\n",
       "    }\n",
       "\n",
       "    .dataframe tbody tr th {\n",
       "        vertical-align: top;\n",
       "    }\n",
       "\n",
       "    .dataframe thead th {\n",
       "        text-align: right;\n",
       "    }\n",
       "</style>\n",
       "<table border=\"1\" class=\"dataframe\">\n",
       "  <thead>\n",
       "    <tr style=\"text-align: right;\">\n",
       "      <th></th>\n",
       "      <th>contentid</th>\n",
       "      <th>title</th>\n",
       "      <th>corpus</th>\n",
       "    </tr>\n",
       "  </thead>\n",
       "  <tbody>\n",
       "    <tr>\n",
       "      <th>0</th>\n",
       "      <td>1433504</td>\n",
       "      <td>가경 터미널시장</td>\n",
       "      <td>가경 터미널시장, 충북 청주시 흥덕구 가경동에 위치한 상설 재래시장이다. 논밭이었던...</td>\n",
       "    </tr>\n",
       "    <tr>\n",
       "      <th>1</th>\n",
       "      <td>126273</td>\n",
       "      <td>가계해변</td>\n",
       "      <td>가계해변, 바닷물이 갈라지는 현대판 모세의 기적으로 유명한 회동국민관광지 내에 있는...</td>\n",
       "    </tr>\n",
       "    <tr>\n",
       "      <th>2</th>\n",
       "      <td>129854</td>\n",
       "      <td>가나아트센터</td>\n",
       "      <td>가나아트센터, 1983년에 개관한 가나아트갤러리는 국내외 3백여 회의 기획전시 및 ...</td>\n",
       "    </tr>\n",
       "    <tr>\n",
       "      <th>3</th>\n",
       "      <td>129194</td>\n",
       "      <td>가나아트파크</td>\n",
       "      <td>가나아트파크, 가나아트파크(전, 장흥아트파크)는 1984년 국내 최초 사립미술관인 ...</td>\n",
       "    </tr>\n",
       "    <tr>\n",
       "      <th>4</th>\n",
       "      <td>2777865</td>\n",
       "      <td>가남체육공원</td>\n",
       "      <td>가남체육공원, 가남체육공원은 가남면 태평리에 위치한 주민들을 위한 다목적 체육활동 ...</td>\n",
       "    </tr>\n",
       "    <tr>\n",
       "      <th>...</th>\n",
       "      <td>...</td>\n",
       "      <td>...</td>\n",
       "      <td>...</td>\n",
       "    </tr>\n",
       "    <tr>\n",
       "      <th>5280</th>\n",
       "      <td>1839801</td>\n",
       "      <td>[제주올레 14코스] 저지-한림 올레</td>\n",
       "      <td>[제주올레 14코스] 저지-한림 올레, 고요하고 아늑한 초록의 숲길 올레와 시원하게...</td>\n",
       "    </tr>\n",
       "    <tr>\n",
       "      <th>5281</th>\n",
       "      <td>1839536</td>\n",
       "      <td>[제주올레 4코스] 표선-남원 올레</td>\n",
       "      <td>[제주올레 4코스] 표선-남원 올레, 눈부신 백사장에서 시작되는 아름다운 해안 올레...</td>\n",
       "    </tr>\n",
       "    <tr>\n",
       "      <th>5282</th>\n",
       "      <td>1839552</td>\n",
       "      <td>[제주올레 5코스] 남원-쇠소깍 올레</td>\n",
       "      <td>[제주올레 5코스] 남원-쇠소깍 올레, 오감을 활짝 열고 걷는 바당올레와 마을 올레...</td>\n",
       "    </tr>\n",
       "    <tr>\n",
       "      <th>5283</th>\n",
       "      <td>1839621</td>\n",
       "      <td>[제주올레 6코스] 쇠소깍-제주올레 여행자센터 올레</td>\n",
       "      <td>[제주올레 6코스] 쇠소깍-제주올레 여행자센터 올레, 쇠소깍 다리를 출발하여 서귀포...</td>\n",
       "    </tr>\n",
       "    <tr>\n",
       "      <th>5284</th>\n",
       "      <td>1839701</td>\n",
       "      <td>[제주올레 8코스] 월평-대평 올레</td>\n",
       "      <td>[제주올레 8코스] 월평-대평 올레, 짙푸른 바다를 따라가는 바당 올레 코스다. 바...</td>\n",
       "    </tr>\n",
       "  </tbody>\n",
       "</table>\n",
       "<p>5285 rows × 3 columns</p>\n",
       "</div>"
      ],
      "text/plain": [
       "      contentid                         title  \\\n",
       "0       1433504                      가경 터미널시장   \n",
       "1        126273                          가계해변   \n",
       "2        129854                        가나아트센터   \n",
       "3        129194                        가나아트파크   \n",
       "4       2777865                        가남체육공원   \n",
       "...         ...                           ...   \n",
       "5280    1839801          [제주올레 14코스] 저지-한림 올레   \n",
       "5281    1839536           [제주올레 4코스] 표선-남원 올레   \n",
       "5282    1839552          [제주올레 5코스] 남원-쇠소깍 올레   \n",
       "5283    1839621  [제주올레 6코스] 쇠소깍-제주올레 여행자센터 올레   \n",
       "5284    1839701           [제주올레 8코스] 월평-대평 올레   \n",
       "\n",
       "                                                 corpus  \n",
       "0     가경 터미널시장, 충북 청주시 흥덕구 가경동에 위치한 상설 재래시장이다. 논밭이었던...  \n",
       "1     가계해변, 바닷물이 갈라지는 현대판 모세의 기적으로 유명한 회동국민관광지 내에 있는...  \n",
       "2     가나아트센터, 1983년에 개관한 가나아트갤러리는 국내외 3백여 회의 기획전시 및 ...  \n",
       "3     가나아트파크, 가나아트파크(전, 장흥아트파크)는 1984년 국내 최초 사립미술관인 ...  \n",
       "4     가남체육공원, 가남체육공원은 가남면 태평리에 위치한 주민들을 위한 다목적 체육활동 ...  \n",
       "...                                                 ...  \n",
       "5280  [제주올레 14코스] 저지-한림 올레, 고요하고 아늑한 초록의 숲길 올레와 시원하게...  \n",
       "5281  [제주올레 4코스] 표선-남원 올레, 눈부신 백사장에서 시작되는 아름다운 해안 올레...  \n",
       "5282  [제주올레 5코스] 남원-쇠소깍 올레, 오감을 활짝 열고 걷는 바당올레와 마을 올레...  \n",
       "5283  [제주올레 6코스] 쇠소깍-제주올레 여행자센터 올레, 쇠소깍 다리를 출발하여 서귀포...  \n",
       "5284  [제주올레 8코스] 월평-대평 올레, 짙푸른 바다를 따라가는 바당 올레 코스다. 바...  \n",
       "\n",
       "[5285 rows x 3 columns]"
      ]
     },
     "execution_count": 29,
     "metadata": {},
     "output_type": "execute_result"
    }
   ],
   "source": [
    "import pandas as pd\n",
    "\n",
    "\n",
    "data = pd.read_csv(\"corpus_sample.csv\")\n",
    "data"
   ]
  },
  {
   "cell_type": "code",
   "execution_count": 30,
   "metadata": {},
   "outputs": [
    {
     "data": {
      "text/html": [
       "<div>\n",
       "<style scoped>\n",
       "    .dataframe tbody tr th:only-of-type {\n",
       "        vertical-align: middle;\n",
       "    }\n",
       "\n",
       "    .dataframe tbody tr th {\n",
       "        vertical-align: top;\n",
       "    }\n",
       "\n",
       "    .dataframe thead th {\n",
       "        text-align: right;\n",
       "    }\n",
       "</style>\n",
       "<table border=\"1\" class=\"dataframe\">\n",
       "  <thead>\n",
       "    <tr style=\"text-align: right;\">\n",
       "      <th></th>\n",
       "      <th>index</th>\n",
       "      <th>contentid</th>\n",
       "      <th>title</th>\n",
       "      <th>corpus</th>\n",
       "      <th>corpus_length</th>\n",
       "    </tr>\n",
       "  </thead>\n",
       "  <tbody>\n",
       "    <tr>\n",
       "      <th>0</th>\n",
       "      <td>28</td>\n",
       "      <td>849929</td>\n",
       "      <td>가야할매밀면전문점</td>\n",
       "      <td>가야할매밀면전문점, ※ 영업시간 11:00 ~ 19:30\\n\\n가야할매밀면전문점은 ...</td>\n",
       "      <td>189</td>\n",
       "    </tr>\n",
       "    <tr>\n",
       "      <th>1</th>\n",
       "      <td>93</td>\n",
       "      <td>131139</td>\n",
       "      <td>강남청소년수련관</td>\n",
       "      <td>강남청소년수련관, 청담근린공원 인근에 위치한 강남청소년수련관은 서울YWCA에서 운영...</td>\n",
       "      <td>82</td>\n",
       "    </tr>\n",
       "    <tr>\n",
       "      <th>2</th>\n",
       "      <td>96</td>\n",
       "      <td>130376</td>\n",
       "      <td>강동문화원</td>\n",
       "      <td>강동문화원, 강동문화원은 지방문화원 진흥법에 의거, 1999년 1월 29일 서울특별...</td>\n",
       "      <td>188</td>\n",
       "    </tr>\n",
       "    <tr>\n",
       "      <th>3</th>\n",
       "      <td>219</td>\n",
       "      <td>1832011</td>\n",
       "      <td>갤럭시호텔</td>\n",
       "      <td>갤럭시호텔, 인천의 명소 계산동에 있는 갤럭시호텔은 계양구청을 비롯하여 각종 쇼핑 ...</td>\n",
       "      <td>213</td>\n",
       "    </tr>\n",
       "    <tr>\n",
       "      <th>4</th>\n",
       "      <td>291</td>\n",
       "      <td>2930839</td>\n",
       "      <td>경리단길</td>\n",
       "      <td>경리단길, 경리단길은 국군재정관리단 정문으로부터 그랜드하얏트 호텔 방향으로 이어지는...</td>\n",
       "      <td>237</td>\n",
       "    </tr>\n",
       "    <tr>\n",
       "      <th>...</th>\n",
       "      <td>...</td>\n",
       "      <td>...</td>\n",
       "      <td>...</td>\n",
       "      <td>...</td>\n",
       "      <td>...</td>\n",
       "    </tr>\n",
       "    <tr>\n",
       "      <th>166</th>\n",
       "      <td>5213</td>\n",
       "      <td>143154</td>\n",
       "      <td>B-STAY 부천호텔</td>\n",
       "      <td>B-STAY 부천호텔, 문화 융성 행사와 비즈니스가 활발한 부천 상동에 위치하고 있...</td>\n",
       "      <td>224</td>\n",
       "    </tr>\n",
       "    <tr>\n",
       "      <th>167</th>\n",
       "      <td>5237</td>\n",
       "      <td>2773265</td>\n",
       "      <td>K현대미술관</td>\n",
       "      <td>K현대미술관, 서울 강남구 압구정동 중심에 위치한 K현대미술관은 6개 층 전시장 4...</td>\n",
       "      <td>225</td>\n",
       "    </tr>\n",
       "    <tr>\n",
       "      <th>168</th>\n",
       "      <td>5243</td>\n",
       "      <td>136323</td>\n",
       "      <td>Nu Motel(엔유모텔)</td>\n",
       "      <td>Nu Motel(엔유모텔), 서울 송파구 잠실에 위치한 Nu Motel은 다양한 타...</td>\n",
       "      <td>56</td>\n",
       "    </tr>\n",
       "    <tr>\n",
       "      <th>169</th>\n",
       "      <td>5253</td>\n",
       "      <td>2679078</td>\n",
       "      <td>YG리퍼블릭 센트럴시티</td>\n",
       "      <td>YG리퍼블릭 센트럴시티, 화사한 분위기의 브런치 전문카페다. 대표메뉴는 라자냐다. ...</td>\n",
       "      <td>64</td>\n",
       "    </tr>\n",
       "    <tr>\n",
       "      <th>170</th>\n",
       "      <td>5262</td>\n",
       "      <td>2563373</td>\n",
       "      <td>[백년가게]부산복집</td>\n",
       "      <td>[백년가게]부산복집, [중소벤처기업부 2018년도 '백년가게'로 선정] 복어 요리가...</td>\n",
       "      <td>201</td>\n",
       "    </tr>\n",
       "  </tbody>\n",
       "</table>\n",
       "<p>171 rows × 5 columns</p>\n",
       "</div>"
      ],
      "text/plain": [
       "     index  contentid           title  \\\n",
       "0       28     849929       가야할매밀면전문점   \n",
       "1       93     131139        강남청소년수련관   \n",
       "2       96     130376           강동문화원   \n",
       "3      219    1832011           갤럭시호텔   \n",
       "4      291    2930839            경리단길   \n",
       "..     ...        ...             ...   \n",
       "166   5213     143154     B-STAY 부천호텔   \n",
       "167   5237    2773265          K현대미술관   \n",
       "168   5243     136323  Nu Motel(엔유모텔)   \n",
       "169   5253    2679078    YG리퍼블릭 센트럴시티   \n",
       "170   5262    2563373      [백년가게]부산복집   \n",
       "\n",
       "                                                corpus  corpus_length  \n",
       "0    가야할매밀면전문점, ※ 영업시간 11:00 ~ 19:30\\n\\n가야할매밀면전문점은 ...            189  \n",
       "1    강남청소년수련관, 청담근린공원 인근에 위치한 강남청소년수련관은 서울YWCA에서 운영...             82  \n",
       "2    강동문화원, 강동문화원은 지방문화원 진흥법에 의거, 1999년 1월 29일 서울특별...            188  \n",
       "3    갤럭시호텔, 인천의 명소 계산동에 있는 갤럭시호텔은 계양구청을 비롯하여 각종 쇼핑 ...            213  \n",
       "4    경리단길, 경리단길은 국군재정관리단 정문으로부터 그랜드하얏트 호텔 방향으로 이어지는...            237  \n",
       "..                                                 ...            ...  \n",
       "166  B-STAY 부천호텔, 문화 융성 행사와 비즈니스가 활발한 부천 상동에 위치하고 있...            224  \n",
       "167  K현대미술관, 서울 강남구 압구정동 중심에 위치한 K현대미술관은 6개 층 전시장 4...            225  \n",
       "168  Nu Motel(엔유모텔), 서울 송파구 잠실에 위치한 Nu Motel은 다양한 타...             56  \n",
       "169  YG리퍼블릭 센트럴시티, 화사한 분위기의 브런치 전문카페다. 대표메뉴는 라자냐다. ...             64  \n",
       "170  [백년가게]부산복집, [중소벤처기업부 2018년도 '백년가게'로 선정] 복어 요리가...            201  \n",
       "\n",
       "[171 rows x 5 columns]"
      ]
     },
     "execution_count": 30,
     "metadata": {},
     "output_type": "execute_result"
    }
   ],
   "source": [
    " # HyperCLOVA X 임베딩 최대 500토큰 & '서울'과 '부산' 지역 대상만 필터\n",
    "data['corpus_length'] = data['corpus'].apply(len)\n",
    "filtered_data = data[(data['corpus'].apply(len) < 500/2) & (data['corpus'].str.contains('서울|부산'))]\n",
    "filtered_data.reset_index(inplace=True)\n",
    "filtered_data"
   ]
  },
  {
   "cell_type": "markdown",
   "metadata": {},
   "source": [
    "#### 02. Embedding"
   ]
  },
  {
   "cell_type": "code",
   "execution_count": 31,
   "metadata": {},
   "outputs": [],
   "source": [
    "from tqdm.notebook import tqdm\n",
    "import pandas as pd\n",
    "import torch\n",
    "import os\n",
    "import pickle\n",
    "\n",
    "\n",
    "def save_to_pkl(data, filename):\n",
    "    with open(filename, \"wb\") as file:\n",
    "        pickle.dump(data, file)\n",
    "\n",
    "async def generate_embeddings(data, embedders):\n",
    "    df = data.copy()\n",
    "    \n",
    "    texts = df['corpus'].to_list()\n",
    "    \n",
    "    if os.path.exists(\"embeddings.pkl\"):\n",
    "        df = pd.read_pickle(\"embeddings.pkl\")\n",
    "\n",
    "    for name, embedder in tqdm(embedders.items(), desc=\"Embedding Models\"):\n",
    "        if name in df.columns:\n",
    "            continue\n",
    "        \n",
    "        try:\n",
    "            if embedder.src in [\"clova\", \"openai\"]:\n",
    "                embeddings = await embedder(texts, batch_size=len(texts))\n",
    "            else:\n",
    "                embeddings = embedder(texts, batch_size=len(texts))\n",
    "        except Exception as e:\n",
    "            print(f\"Error for {name}: {e}\")\n",
    "            df[name] = [None] * len(df)\n",
    "        \n",
    "        if type(embeddings) == torch.Tensor:\n",
    "            embeddings = embeddings.cpu().numpy()\n",
    "        \n",
    "        df[name] = list(embeddings)\n",
    "        \n",
    "        save_to_pkl(df, \"embeddings.pkl\")\n",
    "    \n",
    "    return df"
   ]
  },
  {
   "cell_type": "code",
   "execution_count": 32,
   "metadata": {},
   "outputs": [
    {
     "data": {
      "application/vnd.jupyter.widget-view+json": {
       "model_id": "9e2a013bc27d4e2b8bb21358854033da",
       "version_major": 2,
       "version_minor": 0
      },
      "text/plain": [
       "Embedding Models:   0%|          | 0/7 [00:00<?, ?it/s]"
      ]
     },
     "metadata": {},
     "output_type": "display_data"
    },
    {
     "data": {
      "text/html": [
       "<div>\n",
       "<style scoped>\n",
       "    .dataframe tbody tr th:only-of-type {\n",
       "        vertical-align: middle;\n",
       "    }\n",
       "\n",
       "    .dataframe tbody tr th {\n",
       "        vertical-align: top;\n",
       "    }\n",
       "\n",
       "    .dataframe thead th {\n",
       "        text-align: right;\n",
       "    }\n",
       "</style>\n",
       "<table border=\"1\" class=\"dataframe\">\n",
       "  <thead>\n",
       "    <tr style=\"text-align: right;\">\n",
       "      <th></th>\n",
       "      <th>level_0</th>\n",
       "      <th>index</th>\n",
       "      <th>contentid</th>\n",
       "      <th>title</th>\n",
       "      <th>corpus</th>\n",
       "      <th>corpus_length</th>\n",
       "      <th>SBERT-KPF</th>\n",
       "      <th>SBERT-KPF-Aug</th>\n",
       "      <th>OpenAI-ada-002</th>\n",
       "      <th>OpenAI-3-small</th>\n",
       "      <th>OpenAI-3-large</th>\n",
       "      <th>HyperCLOVA X-Doc</th>\n",
       "      <th>HyperCLOVA X-Sentence</th>\n",
       "    </tr>\n",
       "  </thead>\n",
       "  <tbody>\n",
       "    <tr>\n",
       "      <th>0</th>\n",
       "      <td>28</td>\n",
       "      <td>28</td>\n",
       "      <td>849929</td>\n",
       "      <td>가야할매밀면전문점</td>\n",
       "      <td>가야할매밀면전문점, ※ 영업시간 11:00 ~ 19:30\\n\\n가야할매밀면전문점은 ...</td>\n",
       "      <td>189</td>\n",
       "      <td>[1.0257232, 0.4795569, -0.24692473, 0.6120842,...</td>\n",
       "      <td>[0.27354264, -0.4900314, -0.18260068, -0.47131...</td>\n",
       "      <td>[-0.0027840151451528072, -0.0172270555049181, ...</td>\n",
       "      <td>[0.02169356867671013, 0.013716896064579487, 0....</td>\n",
       "      <td>[-0.016049101948738098, -0.004607531242072582,...</td>\n",
       "      <td>[-0.2592474, -0.675503, -0.8229767, 1.5691866,...</td>\n",
       "      <td>[-0.07765081, 0.8783126, 0.5896064, -0.0832549...</td>\n",
       "    </tr>\n",
       "    <tr>\n",
       "      <th>1</th>\n",
       "      <td>93</td>\n",
       "      <td>93</td>\n",
       "      <td>131139</td>\n",
       "      <td>강남청소년수련관</td>\n",
       "      <td>강남청소년수련관, 청담근린공원 인근에 위치한 강남청소년수련관은 서울YWCA에서 운영...</td>\n",
       "      <td>82</td>\n",
       "      <td>[-0.6170159, 0.83270067, 0.16490817, 1.0034912...</td>\n",
       "      <td>[-0.12936194, 0.3374649, -0.5095007, -0.547397...</td>\n",
       "      <td>[0.0031752458307892084, -0.01563984341919422, ...</td>\n",
       "      <td>[-0.03798767551779747, 0.04685576260089874, 0....</td>\n",
       "      <td>[0.005944740027189255, 0.019555499777197838, -...</td>\n",
       "      <td>[-0.58942395, -0.65845746, -0.4363828, 1.79047...</td>\n",
       "      <td>[-1.0795499, 0.5028424, 1.3751334, 0.40876696,...</td>\n",
       "    </tr>\n",
       "    <tr>\n",
       "      <th>2</th>\n",
       "      <td>96</td>\n",
       "      <td>96</td>\n",
       "      <td>130376</td>\n",
       "      <td>강동문화원</td>\n",
       "      <td>강동문화원, 강동문화원은 지방문화원 진흥법에 의거, 1999년 1월 29일 서울특별...</td>\n",
       "      <td>188</td>\n",
       "      <td>[0.035636947, 0.2282561, 0.5335356, -0.6749102...</td>\n",
       "      <td>[-0.23202783, -1.4914424, 0.2463897, -1.823587...</td>\n",
       "      <td>[-0.008412346243858337, -0.0096537284553051, 0...</td>\n",
       "      <td>[-0.006765034515410662, 0.013839703053236008, ...</td>\n",
       "      <td>[0.011444931849837303, -0.007484344765543938, ...</td>\n",
       "      <td>[-0.46352774, -0.381572, -0.67592627, 1.729349...</td>\n",
       "      <td>[0.05757965, 0.6126798, 1.5715954, -0.09687182...</td>\n",
       "    </tr>\n",
       "    <tr>\n",
       "      <th>3</th>\n",
       "      <td>219</td>\n",
       "      <td>219</td>\n",
       "      <td>1832011</td>\n",
       "      <td>갤럭시호텔</td>\n",
       "      <td>갤럭시호텔, 인천의 명소 계산동에 있는 갤럭시호텔은 계양구청을 비롯하여 각종 쇼핑 ...</td>\n",
       "      <td>213</td>\n",
       "      <td>[-0.032516427, 1.5167137, -0.71540624, 0.00063...</td>\n",
       "      <td>[-0.5593504, -0.19543725, -0.84314096, -0.0850...</td>\n",
       "      <td>[0.004422867204993963, -0.00715367728844285, 0...</td>\n",
       "      <td>[-0.03396568074822426, -0.0008228163933381438,...</td>\n",
       "      <td>[-0.023853745311498642, 0.010331676341593266, ...</td>\n",
       "      <td>[-0.46343702, -0.38022414, -0.68982786, 1.6462...</td>\n",
       "      <td>[-0.13232134, 1.0745345, -0.3651096, 0.9655325...</td>\n",
       "    </tr>\n",
       "    <tr>\n",
       "      <th>4</th>\n",
       "      <td>291</td>\n",
       "      <td>291</td>\n",
       "      <td>2930839</td>\n",
       "      <td>경리단길</td>\n",
       "      <td>경리단길, 경리단길은 국군재정관리단 정문으로부터 그랜드하얏트 호텔 방향으로 이어지는...</td>\n",
       "      <td>237</td>\n",
       "      <td>[-0.62743396, 0.14826475, -0.30096906, 0.90702...</td>\n",
       "      <td>[-0.6782362, -0.45191792, 0.07866122, 0.135711...</td>\n",
       "      <td>[0.0011949377367272973, 0.006019672378897667, ...</td>\n",
       "      <td>[-0.004717695526778698, -0.007593647576868534,...</td>\n",
       "      <td>[0.023708278313279152, -0.012838417664170265, ...</td>\n",
       "      <td>[-0.07597573, -0.37387004, -0.8092126, 1.57855...</td>\n",
       "      <td>[0.12920193, 1.4433882, -0.92319846, 0.8119752...</td>\n",
       "    </tr>\n",
       "    <tr>\n",
       "      <th>...</th>\n",
       "      <td>...</td>\n",
       "      <td>...</td>\n",
       "      <td>...</td>\n",
       "      <td>...</td>\n",
       "      <td>...</td>\n",
       "      <td>...</td>\n",
       "      <td>...</td>\n",
       "      <td>...</td>\n",
       "      <td>...</td>\n",
       "      <td>...</td>\n",
       "      <td>...</td>\n",
       "      <td>...</td>\n",
       "      <td>...</td>\n",
       "    </tr>\n",
       "    <tr>\n",
       "      <th>166</th>\n",
       "      <td>5213</td>\n",
       "      <td>5213</td>\n",
       "      <td>143154</td>\n",
       "      <td>B-STAY 부천호텔</td>\n",
       "      <td>B-STAY 부천호텔, 문화 융성 행사와 비즈니스가 활발한 부천 상동에 위치하고 있...</td>\n",
       "      <td>224</td>\n",
       "      <td>[1.1657466, 0.47436696, -0.72118044, 0.9141416...</td>\n",
       "      <td>[0.511497, 0.28135815, -1.622722, 0.33820242, ...</td>\n",
       "      <td>[-0.010168266482651234, -0.00559287890791893, ...</td>\n",
       "      <td>[-0.04657468944787979, -0.007063354831188917, ...</td>\n",
       "      <td>[0.005402994807809591, 0.01052427850663662, -0...</td>\n",
       "      <td>[-0.73108125, -0.6263393, -0.668604, 1.6548625...</td>\n",
       "      <td>[-0.6200495, -0.76538575, 0.9391821, 1.546206,...</td>\n",
       "    </tr>\n",
       "    <tr>\n",
       "      <th>167</th>\n",
       "      <td>5237</td>\n",
       "      <td>5237</td>\n",
       "      <td>2773265</td>\n",
       "      <td>K현대미술관</td>\n",
       "      <td>K현대미술관, 서울 강남구 압구정동 중심에 위치한 K현대미술관은 6개 층 전시장 4...</td>\n",
       "      <td>225</td>\n",
       "      <td>[-0.07897927, -0.2609432, -0.31473598, 1.29413...</td>\n",
       "      <td>[-0.3612953, -0.42055097, -0.0049805488, -0.24...</td>\n",
       "      <td>[-0.012639603577554226, 0.016648905351758003, ...</td>\n",
       "      <td>[-0.03859039023518562, -0.01807604543864727, 0...</td>\n",
       "      <td>[-0.0029545510187745094, -0.009668600745499134...</td>\n",
       "      <td>[-0.21361667, -0.40932435, -0.61457944, 1.6697...</td>\n",
       "      <td>[0.967454, 2.0255396, 0.22378139, 0.66910124, ...</td>\n",
       "    </tr>\n",
       "    <tr>\n",
       "      <th>168</th>\n",
       "      <td>5243</td>\n",
       "      <td>5243</td>\n",
       "      <td>136323</td>\n",
       "      <td>Nu Motel(엔유모텔)</td>\n",
       "      <td>Nu Motel(엔유모텔), 서울 송파구 잠실에 위치한 Nu Motel은 다양한 타...</td>\n",
       "      <td>56</td>\n",
       "      <td>[-0.6214877, 1.0257956, -0.44327292, 0.9214335...</td>\n",
       "      <td>[-1.1674879, -0.026108414, -0.46229532, 0.8975...</td>\n",
       "      <td>[0.006989470683038235, -0.013132115826010704, ...</td>\n",
       "      <td>[-0.03985128179192543, -0.0015552920522168279,...</td>\n",
       "      <td>[0.020730692893266678, 0.001353973289951682, -...</td>\n",
       "      <td>[-0.47306365, -0.86645055, -0.5186215, 1.43403...</td>\n",
       "      <td>[-1.5554496, -0.30004835, 1.3177197, -0.011845...</td>\n",
       "    </tr>\n",
       "    <tr>\n",
       "      <th>169</th>\n",
       "      <td>5253</td>\n",
       "      <td>5253</td>\n",
       "      <td>2679078</td>\n",
       "      <td>YG리퍼블릭 센트럴시티</td>\n",
       "      <td>YG리퍼블릭 센트럴시티, 화사한 분위기의 브런치 전문카페다. 대표메뉴는 라자냐다. ...</td>\n",
       "      <td>64</td>\n",
       "      <td>[-0.17203073, 1.7514752, 0.56470835, -0.404191...</td>\n",
       "      <td>[-0.10437983, 0.8529602, 0.9239901, -0.5624078...</td>\n",
       "      <td>[-0.004996097646653652, -0.009026062674820423,...</td>\n",
       "      <td>[-0.029758142307400703, -0.005216835532337427,...</td>\n",
       "      <td>[0.0022856479045003653, -0.0313517190515995, -...</td>\n",
       "      <td>[-0.33370912, -0.3831664, -0.66621584, 1.57702...</td>\n",
       "      <td>[-0.62493724, 1.1767471, 1.2663507, 0.48787072...</td>\n",
       "    </tr>\n",
       "    <tr>\n",
       "      <th>170</th>\n",
       "      <td>5262</td>\n",
       "      <td>5262</td>\n",
       "      <td>2563373</td>\n",
       "      <td>[백년가게]부산복집</td>\n",
       "      <td>[백년가게]부산복집, [중소벤처기업부 2018년도 '백년가게'로 선정] 복어 요리가...</td>\n",
       "      <td>201</td>\n",
       "      <td>[0.39704418, -0.77099675, 0.08526586, 0.266236...</td>\n",
       "      <td>[0.58740634, -1.8637853, 0.47739497, 0.5288993...</td>\n",
       "      <td>[-0.005493244156241417, -0.0222983006387949, 0...</td>\n",
       "      <td>[0.03672679513692856, 0.012341885827481747, 0....</td>\n",
       "      <td>[0.01881301775574684, -0.02485922910273075, -0...</td>\n",
       "      <td>[-0.33903906, -0.3546331, -0.9623144, 1.397042...</td>\n",
       "      <td>[0.10720068, 1.423624, 0.2046405, -0.81929284,...</td>\n",
       "    </tr>\n",
       "  </tbody>\n",
       "</table>\n",
       "<p>171 rows × 13 columns</p>\n",
       "</div>"
      ],
      "text/plain": [
       "     level_0  index  contentid           title  \\\n",
       "0         28     28     849929       가야할매밀면전문점   \n",
       "1         93     93     131139        강남청소년수련관   \n",
       "2         96     96     130376           강동문화원   \n",
       "3        219    219    1832011           갤럭시호텔   \n",
       "4        291    291    2930839            경리단길   \n",
       "..       ...    ...        ...             ...   \n",
       "166     5213   5213     143154     B-STAY 부천호텔   \n",
       "167     5237   5237    2773265          K현대미술관   \n",
       "168     5243   5243     136323  Nu Motel(엔유모텔)   \n",
       "169     5253   5253    2679078    YG리퍼블릭 센트럴시티   \n",
       "170     5262   5262    2563373      [백년가게]부산복집   \n",
       "\n",
       "                                                corpus  corpus_length  \\\n",
       "0    가야할매밀면전문점, ※ 영업시간 11:00 ~ 19:30\\n\\n가야할매밀면전문점은 ...            189   \n",
       "1    강남청소년수련관, 청담근린공원 인근에 위치한 강남청소년수련관은 서울YWCA에서 운영...             82   \n",
       "2    강동문화원, 강동문화원은 지방문화원 진흥법에 의거, 1999년 1월 29일 서울특별...            188   \n",
       "3    갤럭시호텔, 인천의 명소 계산동에 있는 갤럭시호텔은 계양구청을 비롯하여 각종 쇼핑 ...            213   \n",
       "4    경리단길, 경리단길은 국군재정관리단 정문으로부터 그랜드하얏트 호텔 방향으로 이어지는...            237   \n",
       "..                                                 ...            ...   \n",
       "166  B-STAY 부천호텔, 문화 융성 행사와 비즈니스가 활발한 부천 상동에 위치하고 있...            224   \n",
       "167  K현대미술관, 서울 강남구 압구정동 중심에 위치한 K현대미술관은 6개 층 전시장 4...            225   \n",
       "168  Nu Motel(엔유모텔), 서울 송파구 잠실에 위치한 Nu Motel은 다양한 타...             56   \n",
       "169  YG리퍼블릭 센트럴시티, 화사한 분위기의 브런치 전문카페다. 대표메뉴는 라자냐다. ...             64   \n",
       "170  [백년가게]부산복집, [중소벤처기업부 2018년도 '백년가게'로 선정] 복어 요리가...            201   \n",
       "\n",
       "                                             SBERT-KPF  \\\n",
       "0    [1.0257232, 0.4795569, -0.24692473, 0.6120842,...   \n",
       "1    [-0.6170159, 0.83270067, 0.16490817, 1.0034912...   \n",
       "2    [0.035636947, 0.2282561, 0.5335356, -0.6749102...   \n",
       "3    [-0.032516427, 1.5167137, -0.71540624, 0.00063...   \n",
       "4    [-0.62743396, 0.14826475, -0.30096906, 0.90702...   \n",
       "..                                                 ...   \n",
       "166  [1.1657466, 0.47436696, -0.72118044, 0.9141416...   \n",
       "167  [-0.07897927, -0.2609432, -0.31473598, 1.29413...   \n",
       "168  [-0.6214877, 1.0257956, -0.44327292, 0.9214335...   \n",
       "169  [-0.17203073, 1.7514752, 0.56470835, -0.404191...   \n",
       "170  [0.39704418, -0.77099675, 0.08526586, 0.266236...   \n",
       "\n",
       "                                         SBERT-KPF-Aug  \\\n",
       "0    [0.27354264, -0.4900314, -0.18260068, -0.47131...   \n",
       "1    [-0.12936194, 0.3374649, -0.5095007, -0.547397...   \n",
       "2    [-0.23202783, -1.4914424, 0.2463897, -1.823587...   \n",
       "3    [-0.5593504, -0.19543725, -0.84314096, -0.0850...   \n",
       "4    [-0.6782362, -0.45191792, 0.07866122, 0.135711...   \n",
       "..                                                 ...   \n",
       "166  [0.511497, 0.28135815, -1.622722, 0.33820242, ...   \n",
       "167  [-0.3612953, -0.42055097, -0.0049805488, -0.24...   \n",
       "168  [-1.1674879, -0.026108414, -0.46229532, 0.8975...   \n",
       "169  [-0.10437983, 0.8529602, 0.9239901, -0.5624078...   \n",
       "170  [0.58740634, -1.8637853, 0.47739497, 0.5288993...   \n",
       "\n",
       "                                        OpenAI-ada-002  \\\n",
       "0    [-0.0027840151451528072, -0.0172270555049181, ...   \n",
       "1    [0.0031752458307892084, -0.01563984341919422, ...   \n",
       "2    [-0.008412346243858337, -0.0096537284553051, 0...   \n",
       "3    [0.004422867204993963, -0.00715367728844285, 0...   \n",
       "4    [0.0011949377367272973, 0.006019672378897667, ...   \n",
       "..                                                 ...   \n",
       "166  [-0.010168266482651234, -0.00559287890791893, ...   \n",
       "167  [-0.012639603577554226, 0.016648905351758003, ...   \n",
       "168  [0.006989470683038235, -0.013132115826010704, ...   \n",
       "169  [-0.004996097646653652, -0.009026062674820423,...   \n",
       "170  [-0.005493244156241417, -0.0222983006387949, 0...   \n",
       "\n",
       "                                        OpenAI-3-small  \\\n",
       "0    [0.02169356867671013, 0.013716896064579487, 0....   \n",
       "1    [-0.03798767551779747, 0.04685576260089874, 0....   \n",
       "2    [-0.006765034515410662, 0.013839703053236008, ...   \n",
       "3    [-0.03396568074822426, -0.0008228163933381438,...   \n",
       "4    [-0.004717695526778698, -0.007593647576868534,...   \n",
       "..                                                 ...   \n",
       "166  [-0.04657468944787979, -0.007063354831188917, ...   \n",
       "167  [-0.03859039023518562, -0.01807604543864727, 0...   \n",
       "168  [-0.03985128179192543, -0.0015552920522168279,...   \n",
       "169  [-0.029758142307400703, -0.005216835532337427,...   \n",
       "170  [0.03672679513692856, 0.012341885827481747, 0....   \n",
       "\n",
       "                                        OpenAI-3-large  \\\n",
       "0    [-0.016049101948738098, -0.004607531242072582,...   \n",
       "1    [0.005944740027189255, 0.019555499777197838, -...   \n",
       "2    [0.011444931849837303, -0.007484344765543938, ...   \n",
       "3    [-0.023853745311498642, 0.010331676341593266, ...   \n",
       "4    [0.023708278313279152, -0.012838417664170265, ...   \n",
       "..                                                 ...   \n",
       "166  [0.005402994807809591, 0.01052427850663662, -0...   \n",
       "167  [-0.0029545510187745094, -0.009668600745499134...   \n",
       "168  [0.020730692893266678, 0.001353973289951682, -...   \n",
       "169  [0.0022856479045003653, -0.0313517190515995, -...   \n",
       "170  [0.01881301775574684, -0.02485922910273075, -0...   \n",
       "\n",
       "                                      HyperCLOVA X-Doc  \\\n",
       "0    [-0.2592474, -0.675503, -0.8229767, 1.5691866,...   \n",
       "1    [-0.58942395, -0.65845746, -0.4363828, 1.79047...   \n",
       "2    [-0.46352774, -0.381572, -0.67592627, 1.729349...   \n",
       "3    [-0.46343702, -0.38022414, -0.68982786, 1.6462...   \n",
       "4    [-0.07597573, -0.37387004, -0.8092126, 1.57855...   \n",
       "..                                                 ...   \n",
       "166  [-0.73108125, -0.6263393, -0.668604, 1.6548625...   \n",
       "167  [-0.21361667, -0.40932435, -0.61457944, 1.6697...   \n",
       "168  [-0.47306365, -0.86645055, -0.5186215, 1.43403...   \n",
       "169  [-0.33370912, -0.3831664, -0.66621584, 1.57702...   \n",
       "170  [-0.33903906, -0.3546331, -0.9623144, 1.397042...   \n",
       "\n",
       "                                 HyperCLOVA X-Sentence  \n",
       "0    [-0.07765081, 0.8783126, 0.5896064, -0.0832549...  \n",
       "1    [-1.0795499, 0.5028424, 1.3751334, 0.40876696,...  \n",
       "2    [0.05757965, 0.6126798, 1.5715954, -0.09687182...  \n",
       "3    [-0.13232134, 1.0745345, -0.3651096, 0.9655325...  \n",
       "4    [0.12920193, 1.4433882, -0.92319846, 0.8119752...  \n",
       "..                                                 ...  \n",
       "166  [-0.6200495, -0.76538575, 0.9391821, 1.546206,...  \n",
       "167  [0.967454, 2.0255396, 0.22378139, 0.66910124, ...  \n",
       "168  [-1.5554496, -0.30004835, 1.3177197, -0.011845...  \n",
       "169  [-0.62493724, 1.1767471, 1.2663507, 0.48787072...  \n",
       "170  [0.10720068, 1.423624, 0.2046405, -0.81929284,...  \n",
       "\n",
       "[171 rows x 13 columns]"
      ]
     },
     "execution_count": 32,
     "metadata": {},
     "output_type": "execute_result"
    }
   ],
   "source": [
    "# Generate embeddings\n",
    "await generate_embeddings(filtered_data, embedders)"
   ]
  },
  {
   "cell_type": "markdown",
   "metadata": {},
   "source": [
    "#### 03. STS"
   ]
  },
  {
   "cell_type": "code",
   "execution_count": 33,
   "metadata": {},
   "outputs": [],
   "source": [
    "# 검색기 객체 생성\n",
    "retrievers = {}\n",
    "for key, value in embedders.items():\n",
    "    retrievers[key] = Ragcar(tool=\"semantic_search\", src=value.src, model=value.model_info)"
   ]
  },
  {
   "cell_type": "code",
   "execution_count": 34,
   "metadata": {},
   "outputs": [],
   "source": [
    "import torch\n",
    "import logging\n",
    "import re\n",
    "from IPython.display import display, HTML\n",
    "\n",
    "\n",
    "logging.basicConfig(level=logging.WARN)\n",
    "\n",
    "def highlight_keywords(text, keywords, color=\"yellow\"):\n",
    "    for keyword in keywords:\n",
    "        # 정규 표현식을 사용하여 대소문자 구분 없이 키워드를 찾아 하이라이트\n",
    "        text = re.sub(f\"({keyword})\", f\"<span style='background-color: {color};'>\\\\1</span>\", text, flags=re.IGNORECASE)\n",
    "    return text\n",
    "\n",
    "def get_relevant_datas(\n",
    "    retrievers,\n",
    "    embeddings, \n",
    "    query: str, \n",
    "    top_k: int = 5,\n",
    "    min_score: float = 0.,\n",
    "    keywords=[]\n",
    "):\n",
    "    for name, retriever in retrievers.items():\n",
    "        print(\"\\n-------------------------\\n\")\n",
    "        print(f\"Top-5 {name} Retrieval hits\")\n",
    "        \n",
    "        hits = retriever(query, torch.tensor(embeddings[name].tolist()), top_k=top_k, min_score=min_score)[0]\n",
    "        \n",
    "        for hit in hits:\n",
    "            item_at_index = embeddings.iloc[hit['corpus_id']]\n",
    "            contentid_at_index = item_at_index['contentid']\n",
    "            corpus_at_index = item_at_index['corpus']\n",
    "            \n",
    "            # 키워드 하이라이트 적용\n",
    "            highlighted_corpus = highlight_keywords(corpus_at_index, keywords)\n",
    "            \n",
    "            # HTML로 변환하여 출력\n",
    "            display(HTML(f\"({hit['score']}) ID: {contentid_at_index}, <br>{highlighted_corpus}<br>\"))"
   ]
  },
  {
   "cell_type": "code",
   "execution_count": 35,
   "metadata": {},
   "outputs": [],
   "source": [
    "with open('embeddings.pkl', 'rb') as f:\n",
    "    embeddings = pickle.load(f)"
   ]
  },
  {
   "cell_type": "code",
   "execution_count": 36,
   "metadata": {},
   "outputs": [
    {
     "name": "stdout",
     "output_type": "stream",
     "text": [
      "\n",
      "-------------------------\n",
      "\n",
      "Top-5 SBERT-KPF Retrieval hits\n"
     ]
    },
    {
     "name": "stderr",
     "output_type": "stream",
     "text": [
      "/tmp/ipykernel_25493/3034381972.py:27: UserWarning: Creating a tensor from a list of numpy.ndarrays is extremely slow. Please consider converting the list to a single numpy.ndarray with numpy.array() before converting to a tensor. (Triggered internally at ../torch/csrc/utils/tensor_new.cpp:245.)\n",
      "  hits = retriever(query, torch.tensor(embeddings[name].tolist()), top_k=top_k, min_score=min_score)[0]\n"
     ]
    },
    {
     "data": {
      "text/html": [
       "(0.18026989698410034) ID: 250364, <br>문화역 서울 284, 구서울역사를 복원하여 2011년부터 복합문화예술공간으로 거듭난 문화역서울284는 연중 내내 다양한 전시, 공연, 문화 행사, 상설 프로그램 등이 열리는 곳이다. 1900년 남대문정차장을 시작으로 경성역, 서울역을 거쳐 100여년의 역사를 이어가는 공간이다. 1925년의 경성역 모습을 복원하여 방문객에게도 즐거움을 주고 있다. 옛건물을 복원하여 시민들에게 문화예술의 문턱을 낮추고 특별한 경험을 줄 것이다.<br>"
      ],
      "text/plain": [
       "<IPython.core.display.HTML object>"
      ]
     },
     "metadata": {},
     "output_type": "display_data"
    },
    {
     "data": {
      "text/html": [
       "(0.16886834800243378) ID: 2689422, <br>함경도찹쌀순대, 함경도식 찹쌀순대가 들어간 순대국 맛집이다. 대표메뉴는 순대다. 서울특별시 송파구에 있는 한식<span style='background-color: yellow;'>전문점</span>이다.<br>"
      ],
      "text/plain": [
       "<IPython.core.display.HTML object>"
      ]
     },
     "metadata": {},
     "output_type": "display_data"
    },
    {
     "data": {
      "text/html": [
       "(0.13826888799667358) ID: 835909, <br>오우가, 한식의 색다른 맛과 전통의 멋을 느낄 수 있는 곳이다. 한국의 반찬이 많이 나오는 <span style='background-color: yellow;'>음식</span> 문화를 경험해볼 수 있는 곳이다. 서울특별시 중구에 있는 한식 <span style='background-color: yellow;'>전문점</span>이다. 대표메뉴는 쌈밥정식이다.<br>"
      ],
      "text/plain": [
       "<IPython.core.display.HTML object>"
      ]
     },
     "metadata": {},
     "output_type": "display_data"
    },
    {
     "data": {
      "text/html": [
       "(0.1257731318473816) ID: 142719, <br>동서울 관광호텔, 지하철 강변역과 동서울 터미널ㄹ이 호텔 바로 옆에 위치하여 접근성이 뛰어난 곳이다. 비즈니스와 여행을 즐기시는 고객에게 어울리는 최고의 서비스와 시설로 맞이하고 있다.\n",
       "다양한 테마별로 꾸며진 3, 4층 룸과 비즈니스, 여행객을 위한 룸으로 이루어져 있으며 고객 한분 한분에게 최상의 서비스와 안락함을 경험 할 수 있도록 노력할 것이다.<br>"
      ],
      "text/plain": [
       "<IPython.core.display.HTML object>"
      ]
     },
     "metadata": {},
     "output_type": "display_data"
    },
    {
     "data": {
      "text/html": [
       "(0.12421116232872009) ID: 2654150, <br>더라운지 JW메리어트동대문스퀘어서울, 계절마다 다른 메뉴가 제공된다. 대표메뉴는 디저트이다. 서울특별시 동대문역 부근에 있는 양<span style='background-color: yellow;'>식당</span>이다.<br>"
      ],
      "text/plain": [
       "<IPython.core.display.HTML object>"
      ]
     },
     "metadata": {},
     "output_type": "display_data"
    },
    {
     "name": "stdout",
     "output_type": "stream",
     "text": [
      "\n",
      "-------------------------\n",
      "\n",
      "Top-5 SBERT-KPF-Aug Retrieval hits\n"
     ]
    },
    {
     "data": {
      "text/html": [
       "(0.19028690457344055) ID: 1985821, <br>파르나스몰, 호텔전문기업에서 최초로 선보이는 프리미엄 캐주얼 몰인 파르나스몰은 \n",
       "그랜드 인터컨티넨탈 서울 파르나스 지하 1층의 공간에서  문화, 쇼핑, <span style='background-color: yellow;'>식도락</span> 등을 한번에 즐길 수 있어 고객이 집, 회사 등의 일상적인 공간에서 경험할 수 없는 특별한 즐거움을 전달한다.<br>"
      ],
      "text/plain": [
       "<IPython.core.display.HTML object>"
      ]
     },
     "metadata": {},
     "output_type": "display_data"
    },
    {
     "data": {
      "text/html": [
       "(0.17529185116291046) ID: 2689422, <br>함경도찹쌀순대, 함경도식 찹쌀순대가 들어간 순대국 맛집이다. 대표메뉴는 순대다. 서울특별시 송파구에 있는 한식<span style='background-color: yellow;'>전문점</span>이다.<br>"
      ],
      "text/plain": [
       "<IPython.core.display.HTML object>"
      ]
     },
     "metadata": {},
     "output_type": "display_data"
    },
    {
     "data": {
      "text/html": [
       "(0.1498449742794037) ID: 2689478, <br>일일주(日日酒), 안주 맛있고 분위기 좋은 광화문 맛집이다. 서울특별시 종로구에 있는 일식<span style='background-color: yellow;'>전문점</span>이다. 대표메뉴는 연어사시미다.<br>"
      ],
      "text/plain": [
       "<IPython.core.display.HTML object>"
      ]
     },
     "metadata": {},
     "output_type": "display_data"
    },
    {
     "data": {
      "text/html": [
       "(0.1468178778886795) ID: 2682947, <br>보따리부대찌개, 맛있는 밥집으로 직장인들이 많이 방문하는 매장이다. 서울특별시 영등포구에 있는 한식<span style='background-color: yellow;'>전문점</span>이다. 대표메뉴는 부대찌개다.<br>"
      ],
      "text/plain": [
       "<IPython.core.display.HTML object>"
      ]
     },
     "metadata": {},
     "output_type": "display_data"
    },
    {
     "data": {
      "text/html": [
       "(0.1434236466884613) ID: 2753923, <br>관악신사<span style='background-color: yellow;'>시장</span>, 서울 관악구 신림동에 위치한 관악신사<span style='background-color: yellow;'>시장</span>은 주변에 빌라 및 다세대 주택가를 끼고 형성된 골목형 <span style='background-color: yellow;'>시장</span>이다. 2006년 전통<span style='background-color: yellow;'>시장</span> 활성화 사업으로 총 300m에 이르는 구간에 아케이드를 설치하면서 <span style='background-color: yellow;'>시장</span>으로 발전된 이곳은 현대식으로 잘 정비되어 있으며, 3~4분 거리에 신대방역이 위치해 접근성도 편리하다. 2019년 TV프로그램  6시 내고향에 미니 해신탕, 추억의 빵, 중국 꽈배기, 꿀떡, 칼짜장 등이 소개된 적이 있다.<br>"
      ],
      "text/plain": [
       "<IPython.core.display.HTML object>"
      ]
     },
     "metadata": {},
     "output_type": "display_data"
    },
    {
     "name": "stdout",
     "output_type": "stream",
     "text": [
      "\n",
      "-------------------------\n",
      "\n",
      "Top-5 OpenAI-ada-002 Retrieval hits\n"
     ]
    },
    {
     "data": {
      "text/html": [
       "(0.8497709631919861) ID: 628690, <br>곰펜션, 테마가 있는 키즈펜션 곰펜션은 아이들을 위한 맞춤공간이다. 서울에서 50분거리에 위치하며 인근에는 오션월드, 비발디파크 스키장, 홍천강유원지, 팔봉산, 춘천, 남이섬들이 있다. 어린이를 위한 실내 온수 수영장을 사계절운영하며 놀이방 및 장난감이 가득한 객실, 개인테라스 바베큐장등 다양한 테마공간이 있으며 가족사진촬영, 돌사진촬영을 함께 할 수 있다.<br>"
      ],
      "text/plain": [
       "<IPython.core.display.HTML object>"
      ]
     },
     "metadata": {},
     "output_type": "display_data"
    },
    {
     "data": {
      "text/html": [
       "(0.8402262330055237) ID: 2941363, <br>베지앙, 우리 농산물을 활용하여 비건 식사 및 디저트류를 선보이는 곳이다. 사장님이 <span style='background-color: yellow;'>음식</span>에 대한 철학이 깊고 애정이 가득하다. 식사류의 경우 고정 메뉴도 있지만 계절 채소 등을 활용하여 시즌별 메뉴를 선보인다. 디저트류도 역시 마찬가지이다. 또한 환경을 생각하는 곳으로 일회용 물티슈나 플라스틱 빨대 대신 물수건과 유리 빨대가 준비되어 있다. \n",
       "서울에서도 일부로 찾아오는 숨은 맛집이다.<br>"
      ],
      "text/plain": [
       "<IPython.core.display.HTML object>"
      ]
     },
     "metadata": {},
     "output_type": "display_data"
    },
    {
     "data": {
      "text/html": [
       "(0.8360872268676758) ID: 2033802, <br>둘리뮤지엄, 서울시 도봉구 쌍문동에 위치한 둘리뮤지엄은 지하 1층과 지상 3층으로 이뤄진 뮤지엄으로 각 공간마다 만화 속 에피소드를 테마로 꾸며져 있다. 아이들 눈높이에서 설명해주는 도슨트 해설을 통해 둘리 세상을 여행 할 수 있다. 1층 매직어드벤처는 오감을 만족시킬 수 있는 공간이다. 2층엔 코믹테마타운이 있고, 3층은 드림스테이지가 있다.<br><br>"
      ],
      "text/plain": [
       "<IPython.core.display.HTML object>"
      ]
     },
     "metadata": {},
     "output_type": "display_data"
    },
    {
     "data": {
      "text/html": [
       "(0.8353278636932373) ID: 2002493, <br>서울장미축제, 2005년 중랑천 둔치 공원화 사업으로 심기 시작했던 장미가 오랜 시간이 지나면서 아름다운 장미터널을 형성하였고 이를 바탕으로 5.15KM의 국내 최대 규모의 장미터널을 적극 활용하여 도심 속에서 아름다운 장미와 함께 다양한 문화 체험, 공연까지 즐길 수 있는 축제이다.<br>"
      ],
      "text/plain": [
       "<IPython.core.display.HTML object>"
      ]
     },
     "metadata": {},
     "output_type": "display_data"
    },
    {
     "data": {
      "text/html": [
       "(0.8351611495018005) ID: 2782782, <br>해운대수목원, 본래 쓰레기 매립장이었던 곳을 수목원으로 재개발한 곳이다. 부산 시민공원보다 규모가 크다. 시원하게 뻗은 편백숲과 다양한 나무들, 향기원, 허브길, 생태습지원 등 테마별 정원이 있다. 당나귀와 타조, 양, 염소 등 동물들을 만나볼 수 있는 친환경 미니 동물원도 있다. 산책로 따라 거니는 동물들과 교감하는 특별한 경험을 할 수 있다. 어린이들이 마음껏 뛰어놀 수 있는 어린이 놀이원도 있어 온 가족이 함께하기 좋은 곳이다.<br>"
      ],
      "text/plain": [
       "<IPython.core.display.HTML object>"
      ]
     },
     "metadata": {},
     "output_type": "display_data"
    },
    {
     "name": "stdout",
     "output_type": "stream",
     "text": [
      "\n",
      "-------------------------\n",
      "\n",
      "Top-5 OpenAI-3-small Retrieval hits\n"
     ]
    },
    {
     "data": {
      "text/html": [
       "(0.3023153245449066) ID: 1985821, <br>파르나스몰, 호텔전문기업에서 최초로 선보이는 프리미엄 캐주얼 몰인 파르나스몰은 \n",
       "그랜드 인터컨티넨탈 서울 파르나스 지하 1층의 공간에서  문화, 쇼핑, <span style='background-color: yellow;'>식도락</span> 등을 한번에 즐길 수 있어 고객이 집, 회사 등의 일상적인 공간에서 경험할 수 없는 특별한 즐거움을 전달한다.<br>"
      ],
      "text/plain": [
       "<IPython.core.display.HTML object>"
      ]
     },
     "metadata": {},
     "output_type": "display_data"
    },
    {
     "data": {
      "text/html": [
       "(0.2990019917488098) ID: 2505908, <br>롯데시티호텔 구로, 롯데시티호텔구로는 서울 서남권의 랜드마크 호텔로서 IT 산업의 메카인 구로디지털 밸리에 위치한 프리미엄 업 스케일 호텔이다.\n",
       "20층 규모의 탁 트인 시내 전망을 갖춘 283실의 고급스러운 객실과 스타일리시한 뷔페 레스토랑이 준비되어 있으며 야외 테라스와 연회장에서는 고품격 웨딩 및 다양한 연회를 즐기실 수 있다. 성공적인 비즈니스 환경과 도심 속의 여유를 롯데시티호텔구로에서 만나보길 바란다.<br>"
      ],
      "text/plain": [
       "<IPython.core.display.HTML object>"
      ]
     },
     "metadata": {},
     "output_type": "display_data"
    },
    {
     "data": {
      "text/html": [
       "(0.29025334119796753) ID: 2002493, <br>서울장미축제, 2005년 중랑천 둔치 공원화 사업으로 심기 시작했던 장미가 오랜 시간이 지나면서 아름다운 장미터널을 형성하였고 이를 바탕으로 5.15KM의 국내 최대 규모의 장미터널을 적극 활용하여 도심 속에서 아름다운 장미와 함께 다양한 문화 체험, 공연까지 즐길 수 있는 축제이다.<br>"
      ],
      "text/plain": [
       "<IPython.core.display.HTML object>"
      ]
     },
     "metadata": {},
     "output_type": "display_data"
    },
    {
     "data": {
      "text/html": [
       "(0.2800648808479309) ID: 2604100, <br>예직한옥체험마을(용인예직한옥체험 마을), 아름다운 한국의 멋을 담은 예직한옥펜션입니다. 서울에서 한시간거리, 독채형 객실로 편안한 '쉼'을 선물합니다. 편안하고 아름다운 '쉼'을 가져가시길 바랍니다.<br>"
      ],
      "text/plain": [
       "<IPython.core.display.HTML object>"
      ]
     },
     "metadata": {},
     "output_type": "display_data"
    },
    {
     "data": {
      "text/html": [
       "(0.2798108160495758) ID: 142719, <br>동서울 관광호텔, 지하철 강변역과 동서울 터미널ㄹ이 호텔 바로 옆에 위치하여 접근성이 뛰어난 곳이다. 비즈니스와 여행을 즐기시는 고객에게 어울리는 최고의 서비스와 시설로 맞이하고 있다.\n",
       "다양한 테마별로 꾸며진 3, 4층 룸과 비즈니스, 여행객을 위한 룸으로 이루어져 있으며 고객 한분 한분에게 최상의 서비스와 안락함을 경험 할 수 있도록 노력할 것이다.<br>"
      ],
      "text/plain": [
       "<IPython.core.display.HTML object>"
      ]
     },
     "metadata": {},
     "output_type": "display_data"
    },
    {
     "name": "stdout",
     "output_type": "stream",
     "text": [
      "\n",
      "-------------------------\n",
      "\n",
      "Top-5 OpenAI-3-large Retrieval hits\n"
     ]
    },
    {
     "data": {
      "text/html": [
       "(0.3115193247795105) ID: 142719, <br>동서울 관광호텔, 지하철 강변역과 동서울 터미널ㄹ이 호텔 바로 옆에 위치하여 접근성이 뛰어난 곳이다. 비즈니스와 여행을 즐기시는 고객에게 어울리는 최고의 서비스와 시설로 맞이하고 있다.\n",
       "다양한 테마별로 꾸며진 3, 4층 룸과 비즈니스, 여행객을 위한 룸으로 이루어져 있으며 고객 한분 한분에게 최상의 서비스와 안락함을 경험 할 수 있도록 노력할 것이다.<br>"
      ],
      "text/plain": [
       "<IPython.core.display.HTML object>"
      ]
     },
     "metadata": {},
     "output_type": "display_data"
    },
    {
     "data": {
      "text/html": [
       "(0.30652859807014465) ID: 2604100, <br>예직한옥체험마을(용인예직한옥체험 마을), 아름다운 한국의 멋을 담은 예직한옥펜션입니다. 서울에서 한시간거리, 독채형 객실로 편안한 '쉼'을 선물합니다. 편안하고 아름다운 '쉼'을 가져가시길 바랍니다.<br>"
      ],
      "text/plain": [
       "<IPython.core.display.HTML object>"
      ]
     },
     "metadata": {},
     "output_type": "display_data"
    },
    {
     "data": {
      "text/html": [
       "(0.3063061833381653) ID: 2606150, <br>파크하비오 워터킹덤&스파, 워터킹덤은 사계절 편안한 휴식도 즐기고 짜릿한 즐거움도 느낄 수 있는 실내형 워터파크이다. 서울 도심에서 멀리 나갈 필요 없이, 궂은 날씨에도 상관없이 가족,친구,연인과 함께 365일 워터파크를 즐길 수 있다.<br>"
      ],
      "text/plain": [
       "<IPython.core.display.HTML object>"
      ]
     },
     "metadata": {},
     "output_type": "display_data"
    },
    {
     "data": {
      "text/html": [
       "(0.28195616602897644) ID: 1964675, <br>서울관광호텔, 역사와 문화가 살아 숨 쉬는 곳 즐겁고 흥겨운 축제의 한마당이 펼쳐지는 음성에 위치한 서울관광호텔은 음성에서는 드물게 일류 호텔급으로 꾸며졌으며 신축 건물로 깨끗한 시설과 넓은 객실로 편안함을 더해준다.\n",
       "주변의 관광지로는 영화와 드라마의 촬영지로 각광받는 충북 최초의 성당인 감곡성당이 있으며 풍자와 해학의 한마당인 품마축제가 있고 음성청결 고추축제가 매년 펼쳐진다.<br>"
      ],
      "text/plain": [
       "<IPython.core.display.HTML object>"
      ]
     },
     "metadata": {},
     "output_type": "display_data"
    },
    {
     "data": {
      "text/html": [
       "(0.28150323033332825) ID: 628690, <br>곰펜션, 테마가 있는 키즈펜션 곰펜션은 아이들을 위한 맞춤공간이다. 서울에서 50분거리에 위치하며 인근에는 오션월드, 비발디파크 스키장, 홍천강유원지, 팔봉산, 춘천, 남이섬들이 있다. 어린이를 위한 실내 온수 수영장을 사계절운영하며 놀이방 및 장난감이 가득한 객실, 개인테라스 바베큐장등 다양한 테마공간이 있으며 가족사진촬영, 돌사진촬영을 함께 할 수 있다.<br>"
      ],
      "text/plain": [
       "<IPython.core.display.HTML object>"
      ]
     },
     "metadata": {},
     "output_type": "display_data"
    },
    {
     "name": "stdout",
     "output_type": "stream",
     "text": [
      "\n",
      "-------------------------\n",
      "\n",
      "Top-5 HyperCLOVA X-Doc Retrieval hits\n"
     ]
    },
    {
     "data": {
      "text/html": [
       "(0.9678934812545776) ID: 133350, <br>한국의집, 서울의 중심부에 위치한 한국의집은 궁중<span style='background-color: yellow;'>음식</span> 뿐만 아니라 전통예술공연, 전통문화체험, 전통혼례 등 한국의 아름다움을 한곳에서 즐길 수 있는 복합문화공간으로서 국내외 관광객들이 빼놓지 않고 방문하는 곳이다. 한국의집의 궁중<span style='background-color: yellow;'>음식</span>은 조선왕조 궁중<span style='background-color: yellow;'>음식</span> 기능보유자인 한복려 선생의 감수를 받고 있으며, 각종 <span style='background-color: yellow;'>요리</span> 경연대회에서 화려한 수상경력을 자랑하는 한국의집 조리팀이 최고의 맛을 재현하고 있다.<br>"
      ],
      "text/plain": [
       "<IPython.core.display.HTML object>"
      ]
     },
     "metadata": {},
     "output_type": "display_data"
    },
    {
     "data": {
      "text/html": [
       "(0.9678387641906738) ID: 2943506, <br>콘래드서울 제스트, 다양한 세계 진미를 즐길 수 있는 ZEST의 오픈 키친에서는 고품격 스테이크와 서양 특선<span style='background-color: yellow;'>요리</span>, 신선한 초밥과 회, 중국과 여러 아시아 지역의 <span style='background-color: yellow;'>요리</span>와 한국 전통 <span style='background-color: yellow;'>요리</span>가 신선하게 조리되어 아침, 점심, 저녁 제공된다. 달콤한 디저트 코너와 콘래드 서울만의 멋진 샐러드 트리도 있어 볼거리와 먹을 거리 하나도 놓칠 수 없는 곳이다.<br>"
      ],
      "text/plain": [
       "<IPython.core.display.HTML object>"
      ]
     },
     "metadata": {},
     "output_type": "display_data"
    },
    {
     "data": {
      "text/html": [
       "(0.9675313234329224) ID: 2911112, <br>진목<span style='background-color: yellow;'>카페</span>, 부산시 강서구 명지동에 있는 진목<span style='background-color: yellow;'>카페</span>는 바다와 강이 만나는 곳에 있다. <span style='background-color: yellow;'>카페</span> 앞 바깥 공간에 이국적인 느낌이 물씬 풍기는 파라솔 테이블이 있어 여유로운 시간을 즐기기 좋고 김해 공항에서 차로 20분 거리에 있어, 이착륙하는 비행기를 구경하는 재미도 쏠쏠하다. 브루잉 커피와 디저트뿐만 아니라 브런치 메뉴도 다양해서 선택의 폭이 넓다. 주차장이 넓어서 편리하며﻿ 대저 생태공원, 렛츠런파크 부산경남 등이 인접해 있어 함께 둘러보기 좋다.<br>"
      ],
      "text/plain": [
       "<IPython.core.display.HTML object>"
      ]
     },
     "metadata": {},
     "output_type": "display_data"
    },
    {
     "data": {
      "text/html": [
       "(0.9674293398857117) ID: 2033802, <br>둘리뮤지엄, 서울시 도봉구 쌍문동에 위치한 둘리뮤지엄은 지하 1층과 지상 3층으로 이뤄진 뮤지엄으로 각 공간마다 만화 속 에피소드를 테마로 꾸며져 있다. 아이들 눈높이에서 설명해주는 도슨트 해설을 통해 둘리 세상을 여행 할 수 있다. 1층 매직어드벤처는 오감을 만족시킬 수 있는 공간이다. 2층엔 코믹테마타운이 있고, 3층은 드림스테이지가 있다.<br><br>"
      ],
      "text/plain": [
       "<IPython.core.display.HTML object>"
      ]
     },
     "metadata": {},
     "output_type": "display_data"
    },
    {
     "data": {
      "text/html": [
       "(0.9666431546211243) ID: 2504510, <br>롯데시티호텔 명동, 롯데시티호텔명동은 서울 시내 비즈니스와 쇼핑의 중심지인 명동과 서울의 오아시스인 청계천 사이에 위치하고 있으며, 27층 규모의 탁 트인 전망과 430의 객실과 뷔페 레스토랑, 미팅룸, 피트니스 등을 갖춘 프리미엄 비즈니스호텔이다.\n",
       "성공적인 비즈니스와 만족스런 여행을 위한 최고의 실용성과 차별화된 서비스, 합리적인 가격으로 비즈니스 고객과 레저여행객 모두에게 잊지 못할 추억을 선사한다.<br>"
      ],
      "text/plain": [
       "<IPython.core.display.HTML object>"
      ]
     },
     "metadata": {},
     "output_type": "display_data"
    },
    {
     "name": "stdout",
     "output_type": "stream",
     "text": [
      "\n",
      "-------------------------\n",
      "\n",
      "Top-5 HyperCLOVA X-Sentence Retrieval hits\n"
     ]
    },
    {
     "data": {
      "text/html": [
       "(0.398855596780777) ID: 2653710, <br>무궁화 롯데호텔서울, 서울특별시 을지로입구역 부근에 있는 한<span style='background-color: yellow;'>식당</span>이다. 대표메뉴는 한정식이다. 미슐랭에 인정받은 한식 코스<span style='background-color: yellow;'>요리</span> 매장이다.<br>"
      ],
      "text/plain": [
       "<IPython.core.display.HTML object>"
      ]
     },
     "metadata": {},
     "output_type": "display_data"
    },
    {
     "data": {
      "text/html": [
       "(0.3846917450428009) ID: 2943506, <br>콘래드서울 제스트, 다양한 세계 진미를 즐길 수 있는 ZEST의 오픈 키친에서는 고품격 스테이크와 서양 특선<span style='background-color: yellow;'>요리</span>, 신선한 초밥과 회, 중국과 여러 아시아 지역의 <span style='background-color: yellow;'>요리</span>와 한국 전통 <span style='background-color: yellow;'>요리</span>가 신선하게 조리되어 아침, 점심, 저녁 제공된다. 달콤한 디저트 코너와 콘래드 서울만의 멋진 샐러드 트리도 있어 볼거리와 먹을 거리 하나도 놓칠 수 없는 곳이다.<br>"
      ],
      "text/plain": [
       "<IPython.core.display.HTML object>"
      ]
     },
     "metadata": {},
     "output_type": "display_data"
    },
    {
     "data": {
      "text/html": [
       "(0.3542967736721039) ID: 142719, <br>동서울 관광호텔, 지하철 강변역과 동서울 터미널ㄹ이 호텔 바로 옆에 위치하여 접근성이 뛰어난 곳이다. 비즈니스와 여행을 즐기시는 고객에게 어울리는 최고의 서비스와 시설로 맞이하고 있다.\n",
       "다양한 테마별로 꾸며진 3, 4층 룸과 비즈니스, 여행객을 위한 룸으로 이루어져 있으며 고객 한분 한분에게 최상의 서비스와 안락함을 경험 할 수 있도록 노력할 것이다.<br>"
      ],
      "text/plain": [
       "<IPython.core.display.HTML object>"
      ]
     },
     "metadata": {},
     "output_type": "display_data"
    },
    {
     "data": {
      "text/html": [
       "(0.35185506939888) ID: 2930839, <br>경리단길, 경리단길은 국군재정관리단 정문으로부터 그랜드하얏트 호텔 방향으로 이어지는 길과 주변 골목길을 통칭하며, 과거 육군중앙경리단이 현 위치에 있어 경리단길이라 불리어왔다. 경리단길은 저마다 개성이 넘치는 <span style='background-color: yellow;'>식당</span>과 <span style='background-color: yellow;'>카페</span>의 다양하고 독특한 먹거리가 유명한 문화와 젊음의 공간이다. 또한, 서울의 평범한 동네 같으면서도 세계 각국에서 온 외국인들이 주민들과 자연스럽게 어울려 지내는 모습이 이국적이고 색다른 분위기를 자아낸다.<br>"
      ],
      "text/plain": [
       "<IPython.core.display.HTML object>"
      ]
     },
     "metadata": {},
     "output_type": "display_data"
    },
    {
     "data": {
      "text/html": [
       "(0.34906625747680664) ID: 835909, <br>오우가, 한식의 색다른 맛과 전통의 멋을 느낄 수 있는 곳이다. 한국의 반찬이 많이 나오는 <span style='background-color: yellow;'>음식</span> 문화를 경험해볼 수 있는 곳이다. 서울특별시 중구에 있는 한식 <span style='background-color: yellow;'>전문점</span>이다. 대표메뉴는 쌈밥정식이다.<br>"
      ],
      "text/plain": [
       "<IPython.core.display.HTML object>"
      ]
     },
     "metadata": {},
     "output_type": "display_data"
    }
   ],
   "source": [
    "query = \"식도락 여행 테마로 일정 계획해줘\"\n",
    "keywords = ['식도락', '음식', '식당', '전문점', '시장', '요리', '카페']\n",
    "get_relevant_datas(retrievers, embeddings, query, keywords=keywords)"
   ]
  }
 ],
 "metadata": {
  "kernelspec": {
   "display_name": "rens",
   "language": "python",
   "name": "python3"
  },
  "language_info": {
   "codemirror_mode": {
    "name": "ipython",
    "version": 3
   },
   "file_extension": ".py",
   "mimetype": "text/x-python",
   "name": "python",
   "nbconvert_exporter": "python",
   "pygments_lexer": "ipython3",
   "version": "3.10.13"
  },
  "orig_nbformat": 4,
  "vscode": {
   "interpreter": {
    "hash": "a545914905f7133bd9391d6777e0ef03369109a34050a83c08d63903eaf0a072"
   }
  }
 },
 "nbformat": 4,
 "nbformat_minor": 2
}
